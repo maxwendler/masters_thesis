{
 "cells": [
  {
   "cell_type": "code",
   "execution_count": 1,
   "metadata": {},
   "outputs": [
    {
     "data": {
      "text/plain": [
       "<Time object: scale='utc' format='datetime64' value=2023-10-22T21:39:19.000000000>"
      ]
     },
     "execution_count": 1,
     "metadata": {},
     "output_type": "execute_result"
    }
   ],
   "source": [
    "from sgp4.api import Satrec\n",
    "from datetime import datetime\n",
    "from numpy import datetime64\n",
    "\n",
    "s = \"1 42956U 17061B   23296.12655675  .00000536  00000+0  18443-3 0  9996\"\n",
    "t = \"2 42956  86.3950  69.7571 0001996  92.0127 268.1297 14.34219595316042\"\n",
    "\n",
    "satellite = Satrec.twoline2rv(s, t)\n",
    "\n",
    "from astropy import units as u\n",
    "from astropy.time import Time\n",
    "\n",
    "start_time_dt = datetime64(datetime.strptime(\"2023-10-22-21-39-19\", \"%Y-%m-%d-%H-%M-%S\"))\n",
    "start_time = Time(start_time_dt, format=\"datetime64\")\n",
    "start_time"
   ]
  },
  {
   "cell_type": "code",
   "execution_count": 2,
   "metadata": {},
   "outputs": [
    {
     "data": {
      "text/plain": [
       "<Time object: scale='utc' format='datetime64' value=['2023-10-22T21:39:34.000000000' '2023-10-22T21:39:35.000000000'\n",
       " '2023-10-22T21:39:36.000000000' '2023-10-22T21:39:37.000000000'\n",
       " '2023-10-22T21:39:38.000000000' '2023-10-22T21:39:39.000000000'\n",
       " '2023-10-22T21:39:40.000000000' '2023-10-22T21:39:41.000000000'\n",
       " '2023-10-22T21:39:42.000000000' '2023-10-22T21:39:43.000000000'\n",
       " '2023-10-22T21:39:44.000000000']>"
      ]
     },
     "execution_count": 2,
     "metadata": {},
     "output_type": "execute_result"
    }
   ],
   "source": [
    "from poliastro.util import time_range\n",
    "from astropy import units as u\n",
    "\n",
    "times = time_range(start_time, spacing=u.Quantity(1, u.s), periods=26)[15:]\n",
    "times"
   ]
  },
  {
   "cell_type": "code",
   "execution_count": 3,
   "metadata": {},
   "outputs": [],
   "source": [
    "# rs in IETF\n",
    "errors, rs, vs = satellite.sgp4_array(times.jd1, times.jd2)\n",
    "assert (errors == 0).all()"
   ]
  },
  {
   "cell_type": "code",
   "execution_count": 4,
   "metadata": {},
   "outputs": [
    {
     "data": {
      "text/plain": [
       "<SkyCoord (ITRS: obstime=['2023-10-22T21:39:34.000000000' '2023-10-22T21:39:35.000000000'\n",
       " '2023-10-22T21:39:36.000000000' '2023-10-22T21:39:37.000000000'\n",
       " '2023-10-22T21:39:38.000000000' '2023-10-22T21:39:39.000000000'\n",
       " '2023-10-22T21:39:40.000000000' '2023-10-22T21:39:41.000000000'\n",
       " '2023-10-22T21:39:42.000000000' '2023-10-22T21:39:43.000000000'\n",
       " '2023-10-22T21:39:44.000000000'], location=(0., 0., 0.) km): (lon, lat, height) in (deg, deg, m)\n",
       "    [(59.60338587, -75.75864174, 806563.25424452),\n",
       "     (59.66019811, -75.70132746, 806552.29358205),\n",
       "     (59.71653377, -75.64399739, 806541.28880115),\n",
       "     (59.77239839, -75.5866517 , 806530.23994174),\n",
       "     (59.82779747, -75.52929058, 806519.1470439 ),\n",
       "     (59.88273639, -75.47191421, 806508.01014784),\n",
       "     (59.93722047, -75.41452276, 806496.82929398),\n",
       "     (59.99125493, -75.35711639, 806485.60452285),\n",
       "     (60.04484494, -75.29969529, 806474.33587516),\n",
       "     (60.09799557, -75.24225961, 806463.02339179),\n",
       "     (60.15071182, -75.18480951, 806451.66711373)]>"
      ]
     },
     "execution_count": 4,
     "metadata": {},
     "output_type": "execute_result"
    }
   ],
   "source": [
    "from astropy.coordinates import SkyCoord, ITRS, CartesianRepresentation, CartesianDifferential, TEME, GCRS, AltAz, WGS84GeodeticRepresentation\n",
    "\n",
    "cart_teme = CartesianRepresentation(\n",
    "        rs << u.km,\n",
    "        xyz_axis=-1,\n",
    "        differentials=CartesianDifferential(\n",
    "            vs << (u.km / u.s),\n",
    "            xyz_axis=-1,\n",
    "        ),\n",
    "    )\n",
    "\n",
    "# creates an ITRF\n",
    "skycoord = SkyCoord(TEME(cart_teme, obstime=times), frame=\"teme\", obstime=times).transform_to(\"itrs\")\n",
    "skycoord.representation_type = WGS84GeodeticRepresentation\n",
    "skycoord"
   ]
  },
  {
   "cell_type": "code",
   "execution_count": 149,
   "metadata": {},
   "outputs": [
    {
     "data": {
      "text/plain": [
       "defaultdict(dict, {})"
      ]
     },
     "execution_count": 149,
     "metadata": {},
     "output_type": "execute_result"
    }
   ],
   "source": [
    "skycoord.frame.cache"
   ]
  },
  {
   "cell_type": "code",
   "execution_count": 134,
   "metadata": {},
   "outputs": [
    {
     "data": {
      "text/latex": [
       "$59^\\circ36{}^\\prime12.18914419{}^{\\prime\\prime}$"
      ],
      "text/plain": [
       "<Longitude 59.60338587 deg>"
      ]
     },
     "execution_count": 134,
     "metadata": {},
     "output_type": "execute_result"
    }
   ],
   "source": [
    "skycoord.frame.cache[\"representation\"][('WGS84GeodeticRepresentation', True)][0].lon"
   ]
  },
  {
   "cell_type": "code",
   "execution_count": 106,
   "metadata": {},
   "outputs": [
    {
     "data": {
      "text/plain": [
       "['    59.60338587, -75.75864174, 806563.25424452,',\n",
       " '     59.66019811, -75.70132746, 806552.29358205,',\n",
       " '     59.71653377, -75.64399739, 806541.28880115,',\n",
       " '     59.77239839, -75.5866517 , 806530.23994174,',\n",
       " '     59.82779747, -75.52929058, 806519.1470439 ,',\n",
       " '     59.88273639, -75.47191421, 806508.01014784,',\n",
       " '     59.93722047, -75.41452276, 806496.82929398,',\n",
       " '     59.99125493, -75.35711639, 806485.60452285,',\n",
       " '     60.04484494, -75.29969529, 806474.33587516,',\n",
       " '     60.09799557, -75.24225961, 806463.02339179,',\n",
       " '     60.15071182, -75.18480951, 806451.66711373']"
      ]
     },
     "execution_count": 106,
     "metadata": {},
     "output_type": "execute_result"
    }
   ],
   "source": [
    "skycoord.frame._data_repr().replace(\"[\",\"\").replace(\"]\",\"\").replace(\"(\",\"\").replace(\")\",\"\").split(\"\\n\")[1:]"
   ]
  }
 ],
 "metadata": {
  "kernelspec": {
   "display_name": "Python 3",
   "language": "python",
   "name": "python3"
  },
  "language_info": {
   "codemirror_mode": {
    "name": "ipython",
    "version": 3
   },
   "file_extension": ".py",
   "mimetype": "text/x-python",
   "name": "python",
   "nbconvert_exporter": "python",
   "pygments_lexer": "ipython3",
   "version": "3.10.12"
  }
 },
 "nbformat": 4,
 "nbformat_minor": 2
}
