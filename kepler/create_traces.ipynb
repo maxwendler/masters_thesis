{
 "cells": [
  {
   "cell_type": "code",
   "execution_count": null,
   "metadata": {},
   "outputs": [],
   "source": [
    "from tleparse import CelestrakPaths, parse"
   ]
  },
  {
   "cell_type": "code",
   "execution_count": null,
   "metadata": {},
   "outputs": [],
   "source": [
    "# use preconfigured paths of thesis TLEs\n",
    "# -> alternatively, use custom path of a TLEs .txt file\n",
    "path = CelestrakPaths.IRIDIUM_NEXT.value\n",
    "inputs = parse(path)\n",
    "\n",
    "print(\"Example input data to Kepler model\")\n",
    "print(inputs[0])"
   ]
  }
 ],
 "metadata": {
  "kernelspec": {
   "display_name": "Python 3",
   "language": "python",
   "name": "python3"
  },
  "language_info": {
   "codemirror_mode": {
    "name": "ipython",
    "version": 3
   },
   "file_extension": ".py",
   "mimetype": "text/x-python",
   "name": "python",
   "nbconvert_exporter": "python",
   "pygments_lexer": "ipython3",
   "version": "3.10.12"
  }
 },
 "nbformat": 4,
 "nbformat_minor": 2
}
