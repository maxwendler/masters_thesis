{
 "cells": [
  {
   "cell_type": "code",
   "execution_count": 1,
   "metadata": {},
   "outputs": [],
   "source": [
    "from tleparse import read\n",
    "tles_paths = [\"/workspaces/ma-max-wendler/examples/space_veins/tles/avg_epoch_timestamps/undecomposed/iridiumNEXT_2023-10-22-21-39-19.txt\",\n",
    "                \"/workspaces/ma-max-wendler/examples/space_veins/tles/avg_epoch_timestamps/undecomposed/starlinkShort_2023-10-22-21-18-24.txt\",\n",
    "                \"/workspaces/ma-max-wendler/examples/space_veins/tles/avg_epoch_timestamps/undecomposed/oneweb_2023-10-22-22-28-26.txt\",\n",
    "                \"/workspaces/ma-max-wendler/examples/space_veins/tles/avg_epoch_timestamps/satnogs_leo_2023-10-22-23-58-09.txt\",\n",
    "                \"/workspaces/ma-max-wendler/examples/space_veins/tles/avg_epoch_timestamps/eccentric_2023-10-22-21-03-39.txt\"]"
   ]
  },
  {
   "cell_type": "code",
   "execution_count": 2,
   "metadata": {},
   "outputs": [],
   "source": [
    "from astropy.time import Time\n",
    "import astropy.units as u\n",
    "from statistics import median\n",
    "import os"
   ]
  },
  {
   "cell_type": "code",
   "execution_count": 3,
   "metadata": {},
   "outputs": [
    {
     "name": "stdout",
     "output_type": "stream",
     "text": [
      "2023-10-22-09-22-02\n",
      "2023-10-22-09-46-42\n",
      "2023-10-22-09-50-59\n",
      "2023-10-22-14-54-21\n",
      "2023-10-22-09-30-23\n"
     ]
    }
   ],
   "source": [
    "for path in tles_paths:\n",
    "    with open(path, \"r\") as in_f:\n",
    "        org_lines = in_f.readlines()\n",
    "    \n",
    "    tles = read(path)\n",
    "    epochs_unix = []\n",
    "    for tle in tles:\n",
    "        epoch = tle.epoch\n",
    "        epoch.format = 'unix'\n",
    "        epochs_unix.append(epoch.value)\n",
    "    \n",
    "    median_epoch_unix = median(epochs_unix)\n",
    "    median_epoch_time = Time(median_epoch_unix, format='unix' ,scale='utc')\n",
    "\n",
    "    # + 10 seconds, half of warmup time\n",
    "    half_day_before_median = median_epoch_time - ( 43210 << u.s)\n",
    "    half_day_before_median.format = 'datetime'\n",
    "    half_day_before_median_dt_string = half_day_before_median.value.strftime(\"%Y-%m-%d-%H-%M-%S\")\n",
    "    print(half_day_before_median_dt_string)\n",
    "\n",
    "    output_modified_path = path.replace(\"/avg_epoch_timestamps\",\"\")\n",
    "    constellation = path.split(\"/\")[-1].split(\"_\")[0]\n",
    "    new_path = \"/\".join(output_modified_path.split(\"/\")[:-1]) + \"/\" + constellation + \"_\" + half_day_before_median_dt_string + \".txt\"\n",
    "    with open(new_path, \"w\") as out_f:\n",
    "        out_f.writelines(org_lines)"
   ]
  }
 ],
 "metadata": {
  "kernelspec": {
   "display_name": "Python 3",
   "language": "python",
   "name": "python3"
  },
  "language_info": {
   "codemirror_mode": {
    "name": "ipython",
    "version": 3
   },
   "file_extension": ".py",
   "mimetype": "text/x-python",
   "name": "python",
   "nbconvert_exporter": "python",
   "pygments_lexer": "ipython3",
   "version": "3.10.13"
  }
 },
 "nbformat": 4,
 "nbformat_minor": 2
}
