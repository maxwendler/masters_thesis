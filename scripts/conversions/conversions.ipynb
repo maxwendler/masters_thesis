{
 "cells": [
  {
   "cell_type": "markdown",
   "metadata": {},
   "source": [
    "Parse TLE to KeplerInputs"
   ]
  },
  {
   "cell_type": "code",
   "execution_count": 1,
   "metadata": {},
   "outputs": [],
   "source": [
    "import sys\n",
    "sys.path.append('/workspaces/ma-max-wendler/scripts/keplertraces')  # Add the directory to the search path"
   ]
  },
  {
   "cell_type": "code",
   "execution_count": 2,
   "metadata": {},
   "outputs": [],
   "source": [
    "import tleparse"
   ]
  },
  {
   "cell_type": "code",
   "execution_count": 3,
   "metadata": {},
   "outputs": [],
   "source": [
    "# inputs = tleparse($tlespath$), i.e.\n",
    "path = \"/workspaces/ma-max-wendler/scripts/keplertraces/tles/examples_requested_at_2023-10-23-11-06-08/iridium-NEXT_2023-10-22-21-39-19.txt\"\n",
    "tles = tleparse.read(path)"
   ]
  },
  {
   "cell_type": "code",
   "execution_count": 4,
   "metadata": {},
   "outputs": [
    {
     "data": {
      "text/plain": [
       "TLE(name='IRIDIUM 106', norad='41917', classification='U', int_desig='17003A', epoch_year=2023, epoch_day=295.91774854, dn_o2=1.91e-06, ddn_o6=0.0, bstar=6.0989e-05, set_num=999, inc=86.3949, raan=133.2138, ecc=0.0001982, argp=93.4819, M=266.6603, n=14.34216513, rev_num=35442)"
      ]
     },
     "execution_count": 4,
     "metadata": {},
     "output_type": "execute_result"
    }
   ],
   "source": [
    "# objects of the TLE-tool that among other things parses TLE values\n",
    "tle = tles[0]\n",
    "tle"
   ]
  },
  {
   "cell_type": "markdown",
   "metadata": {},
   "source": [
    "For comparison: IRIDIUM 106 TLE\n",
    "\n",
    "```\n",
    "IRIDIUM 106\n",
    "1 41917U 17003A   23295.91774854  .00000191  00000+0  60989-4 0  9995\n",
    "2 41917  86.3949 133.2138 0001982  93.4819 266.6603 14.34216513354425\n",
    "```"
   ]
  },
  {
   "cell_type": "markdown",
   "metadata": {},
   "source": [
    "Convert to KeplerInputs instance, contains two conversions:"
   ]
  },
  {
   "cell_type": "code",
   "execution_count": 5,
   "metadata": {},
   "outputs": [],
   "source": [
    "from poliastro.twobody.angles import M_to_E, E_to_nu\n",
    "import astropy.units as u\n",
    "from math import pi"
   ]
  },
  {
   "cell_type": "code",
   "execution_count": 6,
   "metadata": {},
   "outputs": [
    {
     "data": {
      "text/plain": [
       "(<Quantity 0.0001982>, <Quantity 266.6603 deg>)"
      ]
     },
     "execution_count": 6,
     "metadata": {},
     "output_type": "execute_result"
    }
   ],
   "source": [
    "# mean anomaly to true anomaly via poliastro functions\n",
    "ecc = u.Quantity(tle.ecc, unit=u.one)\n",
    "mean_anom = u.Quantity(tle.M, unit=u.deg)\n",
    "ecc, mean_anom"
   ]
  },
  {
   "cell_type": "code",
   "execution_count": 7,
   "metadata": {},
   "outputs": [
    {
     "data": {
      "text/plain": [
       "(<Quantity 4.65410022 rad>, <Quantity -1.62908509 rad>, 4.654100219355835)"
      ]
     },
     "execution_count": 7,
     "metadata": {},
     "output_type": "execute_result"
    }
   ],
   "source": [
    "mean_anom_rad = mean_anom.to(u.rad)\n",
    "# mean_anom_rad_negpos = u.Quantity(pi,unit=u.rad) - mean_anom.to(u.rad)\n",
    "# -pi (when pi passed) + (mean_anom_rad - pi) (overlap over pi)\n",
    "mean_anom_rad_negpos = mean_anom.to(u.rad) - u.Quantity(2*pi,unit=u.rad) \n",
    "\n",
    "mean_anom_rad, mean_anom_rad_negpos, 2*pi + mean_anom_rad_negpos.value"
   ]
  },
  {
   "cell_type": "code",
   "execution_count": 8,
   "metadata": {},
   "outputs": [],
   "source": [
    "import tletools"
   ]
  },
  {
   "cell_type": "code",
   "execution_count": 9,
   "metadata": {},
   "outputs": [
    {
     "data": {
      "text/plain": [
       "(<Quantity -93.36237315 deg>, <Quantity -1.62948081 rad>)"
      ]
     },
     "execution_count": 9,
     "metadata": {},
     "output_type": "execute_result"
    }
   ],
   "source": [
    "\"\"\"\n",
    "**Warning**\n",
    "\n",
    "    The mean anomaly must be between -π and π radians.\n",
    "    The eccentricity must be less than 1.\n",
    "\"\"\"\n",
    "    \n",
    "# tle-tools-based true anomaly\n",
    "true_anom_t = u.Quantity(tletools.utils.M_to_nu(mean_anom_rad_negpos, tle.ecc), unit=u.rad).to(u.deg)\n",
    "true_anom_t, true_anom_t.to(u.rad)"
   ]
  },
  {
   "cell_type": "code",
   "execution_count": 10,
   "metadata": {},
   "outputs": [
    {
     "data": {
      "text/plain": [
       "(<Quantity -1.62948081 rad>,\n",
       " <Quantity -1.62948081 rad>,\n",
       " <Quantity -93.36237315 deg>)"
      ]
     },
     "execution_count": 10,
     "metadata": {},
     "output_type": "execute_result"
    }
   ],
   "source": [
    "# poliastro based True anomaly -> can use mean anomaly in degrees\n",
    "true_anom_p = E_to_nu( M_to_E( mean_anom_rad_negpos, ecc ), ecc )\n",
    "_true_anom_p = E_to_nu( M_to_E( mean_anom_rad, ecc ), ecc )\n",
    "true_anom_p, _true_anom_p, true_anom_p.to(u.deg)"
   ]
  },
  {
   "cell_type": "code",
   "execution_count": 11,
   "metadata": {},
   "outputs": [],
   "source": [
    "from orbital.utilities import true_anomaly_from_mean"
   ]
  },
  {
   "cell_type": "code",
   "execution_count": 12,
   "metadata": {},
   "outputs": [
    {
     "data": {
      "text/plain": [
       "(4.653704498287206, <Quantity -93.36237315 deg>)"
      ]
     },
     "execution_count": 12,
     "metadata": {},
     "output_type": "execute_result"
    }
   ],
   "source": [
    "# OrbitalPy based True anomaly\n",
    "# uses radian in 0,2pi range (Mnorm = fmod(M, 2 * pi))\n",
    "true_anom_o = true_anomaly_from_mean(ecc.value, mean_anom_rad.value)\n",
    "true_anom_o, u.Quantity( -1 * (2*pi - true_anom_o), unit=u.rad).to(u.deg)"
   ]
  },
  {
   "cell_type": "code",
   "execution_count": 13,
   "metadata": {},
   "outputs": [],
   "source": [
    "import rebound"
   ]
  },
  {
   "cell_type": "code",
   "execution_count": 14,
   "metadata": {},
   "outputs": [
    {
     "data": {
      "text/plain": [
       "(4.653704498287205, <Quantity -93.36237315 deg>)"
      ]
     },
     "execution_count": 14,
     "metadata": {},
     "output_type": "execute_result"
    }
   ],
   "source": [
    "# rebound-based True anomaly\n",
    "# can't really tell in which range M should be, as its C code\n",
    "true_anom_r = rebound.M_to_f(tle.ecc, mean_anom_rad_negpos.value)\n",
    "true_anom_r, u.Quantity(-360, unit=u.deg) + u.Quantity(true_anom_r, unit=u.rad).to(u.deg)"
   ]
  },
  {
   "cell_type": "code",
   "execution_count": 15,
   "metadata": {},
   "outputs": [],
   "source": [
    "from skyfield import keplerlib"
   ]
  },
  {
   "cell_type": "code",
   "execution_count": 16,
   "metadata": {},
   "outputs": [
    {
     "data": {
      "text/plain": [
       "(-1.629480808892381, <Quantity -93.36237315 deg>, -1.629480808892381)"
      ]
     },
     "execution_count": 16,
     "metadata": {},
     "output_type": "execute_result"
    }
   ],
   "source": [
    "# can take mean anomalies in both ranges\n",
    "ecc_anom = keplerlib.eccentric_anomaly(tle.ecc, mean_anom_rad.value)\n",
    "_ecc_anom = keplerlib.eccentric_anomaly(tle.ecc, mean_anom_rad_negpos.value)\n",
    "true_anom_s = keplerlib.true_anomaly_closed(tle.ecc, ecc_anom)\n",
    "_true_anom_s = keplerlib.true_anomaly_closed(tle.ecc, _ecc_anom)\n",
    "\n",
    "true_anom_s, u.Quantity(true_anom_s, unit=u.rad).to(u.deg), _true_anom_s"
   ]
  },
  {
   "cell_type": "markdown",
   "metadata": {},
   "source": [
    "Semi-major axis"
   ]
  },
  {
   "cell_type": "code",
   "execution_count": 17,
   "metadata": {},
   "outputs": [
    {
     "data": {
      "text/plain": [
       "7155.808268901222"
      ]
     },
     "execution_count": 17,
     "metadata": {},
     "output_type": "execute_result"
    }
   ],
   "source": [
    "# tletools \n",
    "tle.a"
   ]
  },
  {
   "cell_type": "code",
   "execution_count": 18,
   "metadata": {},
   "outputs": [],
   "source": [
    "from astropy.constants import GM_earth"
   ]
  },
  {
   "cell_type": "code",
   "execution_count": 19,
   "metadata": {},
   "outputs": [
    {
     "data": {
      "text/latex": [
       "$7155.808 \\; \\mathrm{km}$"
      ],
      "text/plain": [
       "<Quantity 7155.80801877 km>"
      ]
     },
     "execution_count": 19,
     "metadata": {},
     "output_type": "execute_result"
    }
   ],
   "source": [
    "# researched formula\n",
    "secs_per_revolution = 86400 / tle.n\n",
    "semimajoraxis = u.Quantity((secs_per_revolution**2 * GM_earth.value / (4 * pi**2) )**(1/3) / 1000, unit=u.km)\n",
    "semimajoraxis"
   ]
  },
  {
   "cell_type": "markdown",
   "metadata": {},
   "source": [
    "TEME coordinates from poliastro orbit"
   ]
  },
  {
   "cell_type": "code",
   "execution_count": 20,
   "metadata": {},
   "outputs": [
    {
     "data": {
      "text/plain": [
       "7154 x 7157 km x 86.4 deg (GCRS) orbit around Earth (♁) at epoch 2023-10-22T22:01:33.473856000 (UTC)"
      ]
     },
     "execution_count": 20,
     "metadata": {},
     "output_type": "execute_result"
    }
   ],
   "source": [
    "# creates kepler orbit\n",
    "orb = tle.to_orbit()\n",
    "orb"
   ]
  },
  {
   "cell_type": "markdown",
   "metadata": {},
   "source": [
    "Show that equivalent to reference calculations from literature / validated above:"
   ]
  },
  {
   "cell_type": "code",
   "execution_count": 21,
   "metadata": {},
   "outputs": [],
   "source": [
    "from keplerinputs import KeplerInputs\n",
    "from poliastro.twobody import Orbit\n",
    "from poliastro.bodies import Earth"
   ]
  },
  {
   "cell_type": "code",
   "execution_count": 22,
   "metadata": {},
   "outputs": [
    {
     "data": {
      "text/plain": [
       "7154 x 7157 km x 86.4 deg (GCRS) orbit around Earth (♁) at epoch 2023-10-22T22:01:33.473856000 (UTC)"
      ]
     },
     "execution_count": 22,
     "metadata": {},
     "output_type": "execute_result"
    }
   ],
   "source": [
    "kepler_inputs = KeplerInputs(tle.name, tle.ecc, tle.inc, tle.raan, tle.argp, mean_anom=tle.M, mean_motion=tle.n, epoch=tle.epoch)\n",
    "orb = Orbit.from_classical(\n",
    "            Earth, \n",
    "            a=kepler_inputs.semimajoraxis, \n",
    "            ecc=kepler_inputs.ecc, \n",
    "            inc=kepler_inputs.inc, \n",
    "            raan=kepler_inputs.raan, \n",
    "            argp=kepler_inputs.argp, \n",
    "            nu=kepler_inputs.true_anom, \n",
    "            epoch=kepler_inputs.epoch)\n",
    "orb"
   ]
  },
  {
   "cell_type": "markdown",
   "metadata": {},
   "source": [
    "=> tletools orbit creation is equivalent."
   ]
  },
  {
   "cell_type": "markdown",
   "metadata": {},
   "source": [
    "Now: compare ephem coordinates to TEME coordinates from C++ SGP4"
   ]
  },
  {
   "cell_type": "code",
   "execution_count": 23,
   "metadata": {},
   "outputs": [],
   "source": [
    "from datetime import datetime\n",
    "from astropy.time import Time"
   ]
  },
  {
   "cell_type": "code",
   "execution_count": 24,
   "metadata": {},
   "outputs": [
    {
     "data": {
      "text/plain": [
       "<Time object: scale='utc' format='datetime' value=2023-10-22 21:39:19>"
      ]
     },
     "execution_count": 24,
     "metadata": {},
     "output_type": "execute_result"
    }
   ],
   "source": [
    "# following avg. epoch of all sats, which is encoded in name of TLEs file, 'iridium-NEXT_2023-10-22-21-39-19'\n",
    "start_datetime = datetime.strptime(\"2023-10-22-21-39-19\", '%Y-%m-%d-%H-%M-%S')\n",
    "sim_start_time = Time(start_datetime, format='datetime', scale='utc')\n",
    "sim_start_time"
   ]
  },
  {
   "cell_type": "code",
   "execution_count": 25,
   "metadata": {},
   "outputs": [],
   "source": [
    "from poliastro.twobody.sampling import EpochsArray\n",
    "from poliastro.util import time_range"
   ]
  },
  {
   "cell_type": "code",
   "execution_count": 26,
   "metadata": {},
   "outputs": [
    {
     "data": {
      "text/plain": [
       "Ephemerides at 25 epochs from 2023-10-22 21:39:20 (UTC) to 2023-10-22 21:39:44 (UTC)"
      ]
     },
     "execution_count": 26,
     "metadata": {},
     "output_type": "execute_result"
    }
   ],
   "source": [
    "# could use different propagator for EpochsArray, which currently is 'FarnocchiaPropagator'\n",
    "update_interval = (1 << u.s)\n",
    "periods = 25\n",
    "# first coordinate change at first sim second\n",
    "ephem = orb.to_ephem(strategy=EpochsArray(epochs=time_range(sim_start_time + update_interval, spacing=update_interval, periods=periods)))\n",
    "ephem"
   ]
  },
  {
   "cell_type": "code",
   "execution_count": 27,
   "metadata": {},
   "outputs": [
    {
     "data": {
      "text/plain": [
       "<CartesianRepresentation (x, y, z) in km\n",
       "    [(-566.52604985, 1249.35180412, -7024.52179864),\n",
       "     (-571.61236662, 1254.64088416, -7023.16674788),\n",
       "     (-576.69806194, 1259.92860018, -7021.80406161)]\n",
       " (has differentials w.r.t.: 's')>"
      ]
     },
     "execution_count": 27,
     "metadata": {},
     "output_type": "execute_result"
    }
   ],
   "source": [
    "# ICRS coordinates, but orbit above specifies GCRS?\n",
    "# => GCRS is specific version of ICRS\n",
    "\"\"\"\n",
    "Regardless of how the Orbit is created, \n",
    "the implicit reference system is an inertial one. \n",
    "For the specific case of the Solar System, this can be assumed \n",
    "to be the International Celestial Reference System or ICRS.\n",
    "\"\"\"\n",
    "\n",
    "cartesian_trace = ephem.sample(ephem.epochs)\n",
    "# example coordinates\n",
    "cartesian_trace[:3]"
   ]
  },
  {
   "cell_type": "code",
   "execution_count": 28,
   "metadata": {},
   "outputs": [],
   "source": [
    "from astropy.coordinates import GCRS, ITRS, WGS84GeodeticRepresentation, SkyCoord"
   ]
  },
  {
   "cell_type": "code",
   "execution_count": 29,
   "metadata": {},
   "outputs": [
    {
     "data": {
      "text/plain": [
       "<CartesianRepresentation (x, y, z) in km\n",
       "    [(-566.52604985, 1249.35180412, -7024.52179864),\n",
       "     (-571.61236662, 1254.64088416, -7023.16674788),\n",
       "     (-576.69806194, 1259.92860018, -7021.80406161)]\n",
       " (has differentials w.r.t.: 's')>"
      ]
     },
     "execution_count": 29,
     "metadata": {},
     "output_type": "execute_result"
    }
   ],
   "source": [
    "# validated: is GCRS\n",
    "gcrs_trace = GCRS(cartesian_trace, obstime=ephem.epochs)\n",
    "gcrs_trace.cartesian[:3]"
   ]
  },
  {
   "cell_type": "code",
   "execution_count": 31,
   "metadata": {},
   "outputs": [
    {
     "data": {
      "text/plain": [
       "<CartesianRepresentation (x, y, z) in km\n",
       "    [(-644.86301954, 1203.58311841, -7025.75814829),\n",
       "     (-650.25598513, 1208.51251027, -7024.41458634),\n",
       "     (-655.64752835, 1213.44138109, -7023.06338752)]\n",
       " (has differentials w.r.t.: 's')>"
      ]
     },
     "execution_count": 31,
     "metadata": {},
     "output_type": "execute_result"
    }
   ],
   "source": [
    "# convert GCRS to ITRF/S\n",
    "itrf_trace = gcrs_trace.transform_to(ITRS(obstime=ephem.epochs))\n",
    "itrf_trace.cartesian[:3]"
   ]
  },
  {
   "cell_type": "code",
   "execution_count": 32,
   "metadata": {},
   "outputs": [
    {
     "data": {
      "text/plain": [
       "<CartesianRepresentation (x, y, z) in km\n",
       "    [(-725.60553853, 1277.46676615, -7004.80352685),\n",
       "     (-730.97656521, 1282.3877606 , -7003.34556976),\n",
       "     (-736.34608341, 1287.30815087, -7001.8799987 ),\n",
       "     (-741.71408742, 1292.22793144, -7000.40681525),\n",
       "     (-747.08057153, 1297.14709674, -6998.92602102),\n",
       "     (-752.44553001, 1302.06564125, -6997.43761762),\n",
       "     (-757.80895715, 1306.98355941, -6995.94160666),\n",
       "     (-763.17084724, 1311.90084569, -6994.43798978),\n",
       "     (-768.53119458, 1316.81749452, -6992.92676859),\n",
       "     (-773.88999345, 1321.73350039, -6991.40794475)]\n",
       " (has differentials w.r.t.: 's')>"
      ]
     },
     "execution_count": 32,
     "metadata": {},
     "output_type": "execute_result"
    }
   ],
   "source": [
    "# transform to SkyCoord\n",
    "skycoord_itrf = SkyCoord(itrf_trace, obstime=ephem.epochs, frame=\"itrs\")\n",
    "skycoord_itrf.cartesian[15:]"
   ]
  },
  {
   "cell_type": "markdown",
   "metadata": {},
   "source": [
    "For comparison, output by C++ SGP4\n",
    "```\n",
    "> print(x_sgp4_itrf$`itrfCoordX_vector`)\n",
    " [1] -734.9439 -740.2763 -745.6072 -750.9365 -756.2643 -761.5906 -766.9153 -772.2386 -777.5602 -782.8803 -788.1988\n",
    "> print(y_sgp4_itrf$`itrfCoordY_vector`)\n",
    " [1] 1280.705 1285.646 1290.587 1295.527 1300.466 1305.405 1310.343 1315.280 1320.217 1325.153 1330.089\n",
    "> print(z_sgp4_itrf$`itrfCoordZ_vector`)\n",
    " [1] -7010.836 -7009.370 -7007.896 -7006.415 -7004.926 -7003.430 -7001.926 -7000.414 -6998.895 -6997.368 -6995.834\n",
    "```"
   ]
  },
  {
   "cell_type": "code",
   "execution_count": 196,
   "metadata": {},
   "outputs": [
    {
     "data": {
      "text/plain": [
       "<SkyCoord (ITRS: obstime=[datetime.datetime(2023, 10, 22, 21, 39, 35)\n",
       " datetime.datetime(2023, 10, 22, 21, 39, 36)\n",
       " datetime.datetime(2023, 10, 22, 21, 39, 37)\n",
       " datetime.datetime(2023, 10, 22, 21, 39, 38)\n",
       " datetime.datetime(2023, 10, 22, 21, 39, 39)\n",
       " datetime.datetime(2023, 10, 22, 21, 39, 40)\n",
       " datetime.datetime(2023, 10, 22, 21, 39, 41)\n",
       " datetime.datetime(2023, 10, 22, 21, 39, 42)\n",
       " datetime.datetime(2023, 10, 22, 21, 39, 43)\n",
       " datetime.datetime(2023, 10, 22, 21, 39, 44)], location=(0., 0., 0.) km): (lon, lat, height) in (deg, deg, m)\n",
       "    [(119.59672477, -78.22323616, 799563.2714196 ),\n",
       "     (119.68366428, -78.16682804, 799554.57686177),\n",
       "     (119.7697517 , -78.11039084, 799545.8381859 ),\n",
       "     (119.85499866, -78.05392496, 799537.05542884),\n",
       "     (119.93941662, -77.99743081, 799528.22862769),\n",
       "     (120.02301682, -77.94090878, 799519.35781967),\n",
       "     (120.10581031, -77.88435925, 799510.44304222),\n",
       "     (120.18780795, -77.82778259, 799501.48433297),\n",
       "     (120.26902042, -77.77117919, 799492.48172972),\n",
       "     (120.34945822, -77.7145494 , 799483.43527044)]>"
      ]
     },
     "execution_count": 196,
     "metadata": {},
     "output_type": "execute_result"
    }
   ],
   "source": [
    "# transform to WGS84\n",
    "skycoord_wgs84 = skycoord_itrf.copy()\n",
    "skycoord_wgs84.set_representation_cls(WGS84GeodeticRepresentation)\n",
    "skycoord_wgs84[15:]"
   ]
  },
  {
   "cell_type": "markdown",
   "metadata": {},
   "source": [
    "For comparison, outputs by C++ SGP4:\n",
    "\n",
    "```\n",
    "> print(x_sgp4$`wgs84CoordLat_vector`)\n",
    " [1] -78.17508 -78.11866 -78.06220 -78.00573 -77.94922 -77.89269 -77.83613 -77.77955 -77.72294 -77.66631 -77.60965\n",
    "> print(y_sgp4$`wgs84CoordLon_vector`)\n",
    " [1] 119.8497 119.9334 120.0162 120.0982 120.1794 120.2599 120.3395 120.4184 120.4966 120.5739 120.6506\n",
    "> print(z_sgp4$`wgs84CoordAlt_vector`)\n",
    " [1] 806989.9 806980.9 806971.8 806962.7 806953.5 806944.3 806935.0 806925.7 806916.4 806907.0 806897.6\n",
    "\n",
    "```"
   ]
  }
 ],
 "metadata": {
  "kernelspec": {
   "display_name": "Python 3",
   "language": "python",
   "name": "python3"
  },
  "language_info": {
   "codemirror_mode": {
    "name": "ipython",
    "version": 3
   },
   "file_extension": ".py",
   "mimetype": "text/x-python",
   "name": "python",
   "nbconvert_exporter": "python",
   "pygments_lexer": "ipython3",
   "version": "3.10.12"
  }
 },
 "nbformat": 4,
 "nbformat_minor": 2
}
