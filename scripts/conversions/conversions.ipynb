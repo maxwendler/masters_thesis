{
 "cells": [
  {
   "cell_type": "markdown",
   "metadata": {},
   "source": [
    "Parse TLE to KeplerInputs"
   ]
  },
  {
   "cell_type": "code",
   "execution_count": 37,
   "metadata": {},
   "outputs": [],
   "source": [
    "import sys\n",
    "sys.path.append('/workspaces/ma-max-wendler/scripts/keplertraces')  # Add the directory to the search path"
   ]
  },
  {
   "cell_type": "code",
   "execution_count": 38,
   "metadata": {},
   "outputs": [],
   "source": [
    "import tleparse"
   ]
  },
  {
   "cell_type": "code",
   "execution_count": 39,
   "metadata": {},
   "outputs": [],
   "source": [
    "# inputs = tleparse($tlespath$), i.e.\n",
    "path = \"/workspaces/ma-max-wendler/scripts/keplertraces/tles/examples_requested_at_2023-10-23-11-06-08/iridium-NEXT_2023-10-22-21-39-19.txt\"\n",
    "tles = tleparse.read(path)"
   ]
  },
  {
   "cell_type": "code",
   "execution_count": 40,
   "metadata": {},
   "outputs": [
    {
     "data": {
      "text/plain": [
       "TLE(name='IRIDIUM 106', norad='41917', classification='U', int_desig='17003A', epoch_year=2023, epoch_day=295.91774854, dn_o2=1.91e-06, ddn_o6=0.0, bstar=6.0989e-05, set_num=999, inc=86.3949, raan=133.2138, ecc=0.0001982, argp=93.4819, M=266.6603, n=14.34216513, rev_num=35442)"
      ]
     },
     "execution_count": 40,
     "metadata": {},
     "output_type": "execute_result"
    }
   ],
   "source": [
    "# objects of the TLE-tool that among other things parses TLE values\n",
    "tle = tles[0]\n",
    "tle"
   ]
  },
  {
   "cell_type": "markdown",
   "metadata": {},
   "source": [
    "For comparison: IRIDIUM 106 TLE\n",
    "\n",
    "```\n",
    "IRIDIUM 106\n",
    "1 41917U 17003A   23295.91774854  .00000191  00000+0  60989-4 0  9995\n",
    "2 41917  86.3949 133.2138 0001982  93.4819 266.6603 14.34216513354425\n",
    "```"
   ]
  },
  {
   "cell_type": "markdown",
   "metadata": {},
   "source": [
    "Convert to KeplerInputs instance, contains two conversions:"
   ]
  },
  {
   "cell_type": "code",
   "execution_count": 41,
   "metadata": {},
   "outputs": [],
   "source": [
    "from poliastro.twobody.angles import M_to_E, E_to_nu\n",
    "import astropy.units as u\n",
    "from math import pi"
   ]
  },
  {
   "cell_type": "code",
   "execution_count": 42,
   "metadata": {},
   "outputs": [
    {
     "data": {
      "text/plain": [
       "(<Quantity 0.0001982>, <Quantity 266.6603 deg>)"
      ]
     },
     "execution_count": 42,
     "metadata": {},
     "output_type": "execute_result"
    }
   ],
   "source": [
    "# mean anomaly to true anomaly via poliastro functions\n",
    "ecc = u.Quantity(tle.ecc, unit=u.one)\n",
    "mean_anom = u.Quantity(tle.M, unit=u.deg)\n",
    "ecc, mean_anom"
   ]
  },
  {
   "cell_type": "code",
   "execution_count": 43,
   "metadata": {},
   "outputs": [
    {
     "data": {
      "text/plain": [
       "(<Quantity 4.65410022 rad>, <Quantity -1.62908509 rad>, 4.654100219355835)"
      ]
     },
     "execution_count": 43,
     "metadata": {},
     "output_type": "execute_result"
    }
   ],
   "source": [
    "mean_anom_rad = mean_anom.to(u.rad)\n",
    "# mean_anom_rad_negpos = u.Quantity(pi,unit=u.rad) - mean_anom.to(u.rad)\n",
    "# -pi (when pi passed) + (mean_anom_rad - pi) (overlap over pi)\n",
    "mean_anom_rad_negpos = mean_anom.to(u.rad) - u.Quantity(2*pi,unit=u.rad) \n",
    "\n",
    "mean_anom_rad, mean_anom_rad_negpos, 2*pi + mean_anom_rad_negpos.value"
   ]
  },
  {
   "cell_type": "code",
   "execution_count": 44,
   "metadata": {},
   "outputs": [],
   "source": [
    "import tletools"
   ]
  },
  {
   "cell_type": "code",
   "execution_count": 45,
   "metadata": {},
   "outputs": [
    {
     "data": {
      "text/plain": [
       "(<Quantity -93.36237315 deg>, <Quantity -1.62948081 rad>)"
      ]
     },
     "execution_count": 45,
     "metadata": {},
     "output_type": "execute_result"
    }
   ],
   "source": [
    "\"\"\"\n",
    "**Warning**\n",
    "\n",
    "    The mean anomaly must be between -π and π radians.\n",
    "    The eccentricity must be less than 1.\n",
    "\"\"\"\n",
    "    \n",
    "# tle-tools-based true anomaly\n",
    "true_anom_t = u.Quantity(tletools.utils.M_to_nu(mean_anom_rad_negpos, tle.ecc), unit=u.rad).to(u.deg)\n",
    "true_anom_t, true_anom_t.to(u.rad)"
   ]
  },
  {
   "cell_type": "code",
   "execution_count": 46,
   "metadata": {},
   "outputs": [
    {
     "data": {
      "text/plain": [
       "(<Quantity -1.62948081 rad>,\n",
       " <Quantity -1.62948081 rad>,\n",
       " <Quantity -93.36237315 deg>)"
      ]
     },
     "execution_count": 46,
     "metadata": {},
     "output_type": "execute_result"
    }
   ],
   "source": [
    "# poliastro based True anomaly -> can use mean anomaly in degrees\n",
    "true_anom_p = E_to_nu( M_to_E( mean_anom_rad_negpos, ecc ), ecc )\n",
    "_true_anom_p = E_to_nu( M_to_E( mean_anom_rad, ecc ), ecc )\n",
    "true_anom_p, _true_anom_p, true_anom_p.to(u.deg)"
   ]
  },
  {
   "cell_type": "code",
   "execution_count": 47,
   "metadata": {},
   "outputs": [],
   "source": [
    "from orbital.utilities import true_anomaly_from_mean"
   ]
  },
  {
   "cell_type": "code",
   "execution_count": 48,
   "metadata": {},
   "outputs": [
    {
     "data": {
      "text/plain": [
       "(4.653704498287206, <Quantity -93.36237315 deg>)"
      ]
     },
     "execution_count": 48,
     "metadata": {},
     "output_type": "execute_result"
    }
   ],
   "source": [
    "# OrbitalPy based True anomaly\n",
    "# uses radian in 0,2pi range (Mnorm = fmod(M, 2 * pi))\n",
    "true_anom_o = true_anomaly_from_mean(ecc.value, mean_anom_rad.value)\n",
    "true_anom_o, u.Quantity( -1 * (2*pi - true_anom_o), unit=u.rad).to(u.deg)"
   ]
  },
  {
   "cell_type": "code",
   "execution_count": 49,
   "metadata": {},
   "outputs": [],
   "source": [
    "import rebound"
   ]
  },
  {
   "cell_type": "code",
   "execution_count": 50,
   "metadata": {},
   "outputs": [
    {
     "data": {
      "text/plain": [
       "(4.653704498287205, <Quantity -93.36237315 deg>)"
      ]
     },
     "execution_count": 50,
     "metadata": {},
     "output_type": "execute_result"
    }
   ],
   "source": [
    "# rebound-based True anomaly\n",
    "# can't really tell in which range M should be, as its C code\n",
    "true_anom_r = rebound.M_to_f(tle.ecc, mean_anom_rad_negpos.value)\n",
    "true_anom_r, u.Quantity(-360, unit=u.deg) + u.Quantity(true_anom_r, unit=u.rad).to(u.deg)"
   ]
  },
  {
   "cell_type": "code",
   "execution_count": 51,
   "metadata": {},
   "outputs": [],
   "source": [
    "from skyfield import keplerlib"
   ]
  },
  {
   "cell_type": "code",
   "execution_count": 52,
   "metadata": {},
   "outputs": [
    {
     "data": {
      "text/plain": [
       "(-1.629480808892381, <Quantity -93.36237315 deg>, -1.629480808892381)"
      ]
     },
     "execution_count": 52,
     "metadata": {},
     "output_type": "execute_result"
    }
   ],
   "source": [
    "# can take mean anomalies in both ranges\n",
    "ecc_anom = keplerlib.eccentric_anomaly(tle.ecc, mean_anom_rad.value)\n",
    "_ecc_anom = keplerlib.eccentric_anomaly(tle.ecc, mean_anom_rad_negpos.value)\n",
    "true_anom_s = keplerlib.true_anomaly_closed(tle.ecc, ecc_anom)\n",
    "_true_anom_s = keplerlib.true_anomaly_closed(tle.ecc, _ecc_anom)\n",
    "\n",
    "true_anom_s, u.Quantity(true_anom_s, unit=u.rad).to(u.deg), _true_anom_s"
   ]
  },
  {
   "cell_type": "markdown",
   "metadata": {},
   "source": [
    "Semi-major axis"
   ]
  },
  {
   "cell_type": "code",
   "execution_count": 53,
   "metadata": {},
   "outputs": [
    {
     "data": {
      "text/plain": [
       "7155.808268901222"
      ]
     },
     "execution_count": 53,
     "metadata": {},
     "output_type": "execute_result"
    }
   ],
   "source": [
    "# tletools \n",
    "tle.a"
   ]
  },
  {
   "cell_type": "code",
   "execution_count": 54,
   "metadata": {},
   "outputs": [],
   "source": [
    "from astropy.constants import GM_earth"
   ]
  },
  {
   "cell_type": "code",
   "execution_count": 55,
   "metadata": {},
   "outputs": [
    {
     "data": {
      "text/latex": [
       "$7155.808 \\; \\mathrm{km}$"
      ],
      "text/plain": [
       "<Quantity 7155.80801877 km>"
      ]
     },
     "execution_count": 55,
     "metadata": {},
     "output_type": "execute_result"
    }
   ],
   "source": [
    "# researched formula\n",
    "secs_per_revolution = 86400 / tle.n\n",
    "semimajoraxis = u.Quantity((secs_per_revolution**2 * GM_earth.value / (4 * pi**2) )**(1/3) / 1000, unit=u.km)\n",
    "semimajoraxis"
   ]
  },
  {
   "cell_type": "markdown",
   "metadata": {},
   "source": [
    "TEME coordinates from poliastro orbit"
   ]
  },
  {
   "cell_type": "code",
   "execution_count": 56,
   "metadata": {},
   "outputs": [
    {
     "data": {
      "text/plain": [
       "7154 x 7157 km x 86.4 deg (GCRS) orbit around Earth (♁) at epoch 2023-10-22T22:01:33.473856000 (UTC)"
      ]
     },
     "execution_count": 56,
     "metadata": {},
     "output_type": "execute_result"
    }
   ],
   "source": [
    "# creates kepler orbit\n",
    "orb = tle.to_orbit()\n",
    "orb"
   ]
  },
  {
   "cell_type": "markdown",
   "metadata": {},
   "source": [
    "Show that equivalent to reference calculations from literature / validated above:"
   ]
  },
  {
   "cell_type": "code",
   "execution_count": 57,
   "metadata": {},
   "outputs": [],
   "source": [
    "from keplerinputs import KeplerInputs\n",
    "from poliastro.twobody import Orbit\n",
    "from poliastro.bodies import Earth"
   ]
  },
  {
   "cell_type": "code",
   "execution_count": 58,
   "metadata": {},
   "outputs": [
    {
     "data": {
      "text/plain": [
       "7154 x 7157 km x 86.4 deg (GCRS) orbit around Earth (♁) at epoch 2023-10-22T22:01:33.473856000 (UTC)"
      ]
     },
     "execution_count": 58,
     "metadata": {},
     "output_type": "execute_result"
    }
   ],
   "source": [
    "kepler_inputs = KeplerInputs(tle.name, tle.ecc, tle.inc, tle.raan, tle.argp, mean_anom=tle.M, mean_motion=tle.n, epoch=tle.epoch)\n",
    "orb = Orbit.from_classical(\n",
    "            Earth, \n",
    "            a=kepler_inputs.semimajoraxis, \n",
    "            ecc=kepler_inputs.ecc, \n",
    "            inc=kepler_inputs.inc, \n",
    "            raan=kepler_inputs.raan, \n",
    "            argp=kepler_inputs.argp, \n",
    "            nu=kepler_inputs.true_anom, \n",
    "            epoch=kepler_inputs.epoch)\n",
    "orb"
   ]
  },
  {
   "cell_type": "markdown",
   "metadata": {},
   "source": [
    "=> tletools orbit creation is equivalent."
   ]
  },
  {
   "cell_type": "markdown",
   "metadata": {},
   "source": [
    "Now: compare ephem coordinates to TEME coordinates from C++ SGP4"
   ]
  },
  {
   "cell_type": "code",
   "execution_count": 59,
   "metadata": {},
   "outputs": [],
   "source": [
    "from datetime import datetime\n",
    "from astropy.time import Time"
   ]
  },
  {
   "cell_type": "code",
   "execution_count": 60,
   "metadata": {},
   "outputs": [
    {
     "data": {
      "text/plain": [
       "<Time object: scale='utc' format='datetime' value=2023-10-22 21:39:19>"
      ]
     },
     "execution_count": 60,
     "metadata": {},
     "output_type": "execute_result"
    }
   ],
   "source": [
    "# following avg. epoch of all sats, which is encoded in name of TLEs file, 'iridium-NEXT_2023-10-22-21-39-19'\n",
    "start_datetime = datetime.strptime(\"2023-10-22-21-39-19\", '%Y-%m-%d-%H-%M-%S')\n",
    "sim_start_time = Time(start_datetime, format='datetime', scale='utc')\n",
    "sim_start_time"
   ]
  },
  {
   "cell_type": "code",
   "execution_count": 61,
   "metadata": {},
   "outputs": [],
   "source": [
    "from poliastro.twobody.sampling import EpochsArray\n",
    "from poliastro.util import time_range"
   ]
  },
  {
   "cell_type": "code",
   "execution_count": 63,
   "metadata": {},
   "outputs": [
    {
     "data": {
      "text/plain": [
       "Ephemerides at 25 epochs from 2023-10-22 21:39:20 (UTC) to 2023-10-22 21:39:44 (UTC)"
      ]
     },
     "execution_count": 63,
     "metadata": {},
     "output_type": "execute_result"
    }
   ],
   "source": [
    "# could use different propagator for EpochsArray, which currently is 'FarnocchiaPropagator'\n",
    "update_interval = (1 << u.s)\n",
    "periods = 25\n",
    "# first coordinate change at first sim second\n",
    "ephem = orb.to_ephem(strategy=EpochsArray(epochs=time_range(sim_start_time + update_interval, spacing=update_interval, periods=periods)))\n",
    "ephem"
   ]
  },
  {
   "cell_type": "code",
   "execution_count": 66,
   "metadata": {},
   "outputs": [
    {
     "data": {
      "text/plain": [
       "<CartesianRepresentation (x, y, z) in km\n",
       "    [(-566.52604985, 1249.35180412, -7024.52179864),\n",
       "     (-571.61236662, 1254.64088416, -7023.16674788),\n",
       "     (-576.69806194, 1259.92860018, -7021.80406161)]\n",
       " (has differentials w.r.t.: 's')>"
      ]
     },
     "execution_count": 66,
     "metadata": {},
     "output_type": "execute_result"
    }
   ],
   "source": [
    "# ICRS coordinates, but orbit above specifies GCRS?\n",
    "# => GCRS is specific version of ICRS\n",
    "\"\"\"\n",
    "Regardless of how the Orbit is created, \n",
    "the implicit reference system is an inertial one. \n",
    "For the specific case of the Solar System, this can be assumed \n",
    "to be the International Celestial Reference System or ICRS.\n",
    "\"\"\"\n",
    "\n",
    "cartesian_trace = ephem.sample(ephem.epochs)\n",
    "# example coordinates\n",
    "cartesian_trace[:3]"
   ]
  },
  {
   "cell_type": "code",
   "execution_count": 79,
   "metadata": {},
   "outputs": [],
   "source": [
    "from astropy.coordinates import GCRS, WGS84GeodeticRepresentation, SkyCoord"
   ]
  },
  {
   "cell_type": "code",
   "execution_count": 78,
   "metadata": {},
   "outputs": [
    {
     "data": {
      "text/plain": [
       "<WGS84GeodeticRepresentation (lon, lat, height) in (rad, rad, m)\n",
       "    [(1.99652053, -1.3790561 , 799681.14816387),\n",
       "     (1.99829611, -1.37807636, 799673.05393379),\n",
       "     (2.00005396, -1.37709602, 799664.91509588),\n",
       "     (2.00179432, -1.37611511, 799656.73168453),\n",
       "     (2.00351745, -1.37513362, 799648.50373428),\n",
       "     (2.00522361, -1.37415156, 799640.2312799 ),\n",
       "     (2.00691303, -1.37316895, 799631.9143563 ),\n",
       "     (2.00858596, -1.37218579, 799623.5529986 ),\n",
       "     (2.01024262, -1.37120209, 799615.14724212),\n",
       "     (2.01188325, -1.37021785, 799606.69712235),\n",
       "     (2.01350808, -1.36923309, 799598.20267495),\n",
       "     (2.01511733, -1.36824782, 799589.6639358 ),\n",
       "     (2.01671121, -1.36726203, 799581.08094094),\n",
       "     (2.01828994, -1.36627574, 799572.45372662),\n",
       "     (2.01985373, -1.36528896, 799563.78232924),\n",
       "     (2.02140279, -1.36430168, 799555.06678541),\n",
       "     (2.02293732, -1.36331393, 799546.30713193),\n",
       "     (2.02445752, -1.3623257 , 799537.50340577),\n",
       "     (2.02596359, -1.361337  , 799528.65564409),\n",
       "     (2.02745572, -1.36034784, 799519.76388423),\n",
       "     (2.0289341 , -1.35935822, 799510.82816373),\n",
       "     (2.03039891, -1.35836816, 799501.84852029),\n",
       "     (2.03185034, -1.35737765, 799492.82499182),\n",
       "     (2.03328856, -1.3563867 , 799483.75761639),\n",
       "     (2.03471376, -1.35539533, 799474.64643227)]>"
      ]
     },
     "execution_count": 78,
     "metadata": {},
     "output_type": "execute_result"
    }
   ],
   "source": [
    "wgs84_trace = WGS84GeodeticRepresentation.from_cartesian(cartesian_trace)\n",
    "wgs84_trace"
   ]
  },
  {
   "cell_type": "code",
   "execution_count": 81,
   "metadata": {},
   "outputs": [
    {
     "data": {
      "text/plain": [
       "<SkyCoord (GCRS: obstime=[datetime.datetime(2023, 10, 22, 21, 39, 20)\n",
       " datetime.datetime(2023, 10, 22, 21, 39, 21)\n",
       " datetime.datetime(2023, 10, 22, 21, 39, 22)\n",
       " datetime.datetime(2023, 10, 22, 21, 39, 23)\n",
       " datetime.datetime(2023, 10, 22, 21, 39, 24)\n",
       " datetime.datetime(2023, 10, 22, 21, 39, 25)\n",
       " datetime.datetime(2023, 10, 22, 21, 39, 26)\n",
       " datetime.datetime(2023, 10, 22, 21, 39, 27)\n",
       " datetime.datetime(2023, 10, 22, 21, 39, 28)\n",
       " datetime.datetime(2023, 10, 22, 21, 39, 29)\n",
       " datetime.datetime(2023, 10, 22, 21, 39, 30)\n",
       " datetime.datetime(2023, 10, 22, 21, 39, 31)\n",
       " datetime.datetime(2023, 10, 22, 21, 39, 32)\n",
       " datetime.datetime(2023, 10, 22, 21, 39, 33)\n",
       " datetime.datetime(2023, 10, 22, 21, 39, 34)\n",
       " datetime.datetime(2023, 10, 22, 21, 39, 35)\n",
       " datetime.datetime(2023, 10, 22, 21, 39, 36)\n",
       " datetime.datetime(2023, 10, 22, 21, 39, 37)\n",
       " datetime.datetime(2023, 10, 22, 21, 39, 38)\n",
       " datetime.datetime(2023, 10, 22, 21, 39, 39)\n",
       " datetime.datetime(2023, 10, 22, 21, 39, 40)\n",
       " datetime.datetime(2023, 10, 22, 21, 39, 41)\n",
       " datetime.datetime(2023, 10, 22, 21, 39, 42)\n",
       " datetime.datetime(2023, 10, 22, 21, 39, 43)\n",
       " datetime.datetime(2023, 10, 22, 21, 39, 44)], obsgeoloc=(0., 0., 0.) m, obsgeovel=(0., 0., 0.) m / s): (ra, dec, distance) in (deg, deg, km)\n",
       "    [(114.39220013, -78.94994311, 7157.21581309),\n",
       "     (114.49393343, -78.8934966 , 7157.2156328 ),\n",
       "     (114.59465043, -78.83701628, 7157.21545099),\n",
       "     (114.6943659 , -78.78050267, 7157.21526764),\n",
       "     (114.79309432, -78.72395626, 7157.21508277),\n",
       "     (114.89084991, -78.66737755, 7157.21489636),\n",
       "     (114.98764661, -78.61076702, 7157.21470843),\n",
       "     (115.08349814, -78.55412513, 7157.21451896),\n",
       "     (115.17841796, -78.49745236, 7157.21432797),\n",
       "     (115.27241925, -78.44074915, 7157.21413545),\n",
       "     (115.36551501, -78.38401595, 7157.21394139),\n",
       "     (115.45771796, -78.32725321, 7157.21374581),\n",
       "     (115.54904062, -78.27046134, 7157.2135487 ),\n",
       "     (115.63949526, -78.21364077, 7157.21335006),\n",
       "     (115.72909397, -78.15679192, 7157.2131499 ),\n",
       "     (115.81784858, -78.09991518, 7157.2129482 ),\n",
       "     (115.90577074, -78.04301096, 7157.21274498),\n",
       "     (115.99287188, -77.98607964, 7157.21254023),\n",
       "     (116.07916326, -77.92912162, 7157.21233395),\n",
       "     (116.16465589, -77.87213726, 7157.21212615),\n",
       "     (116.24936064, -77.81512693, 7157.21191682),\n",
       "     (116.33328815, -77.75809101, 7157.21170596),\n",
       "     (116.4164489 , -77.70102984, 7157.21149358),\n",
       "     (116.49885319, -77.64394377, 7157.21127967),\n",
       "     (116.58051113, -77.58683315, 7157.21106423)]\n",
       " (pm_ra_cosdec, pm_dec, radial_velocity) in (mas / yr, mas / yr, km / s)\n",
       "    [(2.22638824e+12, 6.41079902e+12, -0.00017952),\n",
       "     (2.21521419e+12, 6.41466908e+12, -0.00018105),\n",
       "     (2.20414729e+12, 6.41848056e+12, -0.00018258),\n",
       "     (2.19318612e+12, 6.42223461e+12, -0.00018411),\n",
       "     (2.18232927e+12, 6.42593234e+12, -0.00018564),\n",
       "     (2.17157538e+12, 6.42957484e+12, -0.00018717),\n",
       "     (2.16092310e+12, 6.43316318e+12, -0.0001887 ),\n",
       "     (2.15037109e+12, 6.43669839e+12, -0.00019023),\n",
       "     (2.13991805e+12, 6.44018149e+12, -0.00019176),\n",
       "     (2.12956268e+12, 6.44361348e+12, -0.00019329),\n",
       "     (2.11930373e+12, 6.44699531e+12, -0.00019482),\n",
       "     (2.10913994e+12, 6.45032794e+12, -0.00019635),\n",
       "     (2.09907009e+12, 6.45361230e+12, -0.00019787),\n",
       "     (2.08909296e+12, 6.45684928e+12, -0.0001994 ),\n",
       "     (2.07920738e+12, 6.46003978e+12, -0.00020093),\n",
       "     (2.06941216e+12, 6.46318464e+12, -0.00020246),\n",
       "     (2.05970615e+12, 6.46628473e+12, -0.00020399),\n",
       "     (2.05008823e+12, 6.46934086e+12, -0.00020551),\n",
       "     (2.04055727e+12, 6.47235384e+12, -0.00020704),\n",
       "     (2.03111218e+12, 6.47532446e+12, -0.00020857),\n",
       "     (2.02175186e+12, 6.47825350e+12, -0.00021009),\n",
       "     (2.01247527e+12, 6.48114169e+12, -0.00021162),\n",
       "     (2.00328135e+12, 6.48398980e+12, -0.00021315),\n",
       "     (1.99416907e+12, 6.48679852e+12, -0.00021467),\n",
       "     (1.98513740e+12, 6.48956858e+12, -0.0002162 )]>"
      ]
     },
     "execution_count": 81,
     "metadata": {},
     "output_type": "execute_result"
    }
   ],
   "source": [
    "skycoord_gcrs = SkyCoord(cartesian_trace, frame='gcrs', obstime=ephem.epochs)\n",
    "skycoord_gcrs"
   ]
  },
  {
   "cell_type": "code",
   "execution_count": 75,
   "metadata": {},
   "outputs": [
    {
     "data": {
      "text/plain": [
       "<GCRS Coordinate (obstime=[datetime.datetime(2023, 10, 22, 21, 39, 20)\n",
       " datetime.datetime(2023, 10, 22, 21, 39, 21)\n",
       " datetime.datetime(2023, 10, 22, 21, 39, 22)], obsgeoloc=(0., 0., 0.) m, obsgeovel=(0., 0., 0.) m / s): (ra, dec, distance) in (deg, deg, km)\n",
       "    [(114.39220013, -78.94994311, 7157.21581309),\n",
       "     (114.49393343, -78.8934966 , 7157.2156328 ),\n",
       "     (114.59465043, -78.83701628, 7157.21545099)]\n",
       " (pm_ra_cosdec, pm_dec, radial_velocity) in (mas / yr, mas / yr, km / s)\n",
       "    [(2.22638824e+12, 6.41079902e+12, -0.00017952),\n",
       "     (2.21521419e+12, 6.41466908e+12, -0.00018105),\n",
       "     (2.20414729e+12, 6.41848056e+12, -0.00018258)]>"
      ]
     },
     "execution_count": 75,
     "metadata": {},
     "output_type": "execute_result"
    }
   ],
   "source": [
    "gcrs_trace = GCRS(cartesian_trace, obstime=ephem.epochs)\n",
    "gcrs_trace[:3]"
   ]
  }
 ],
 "metadata": {
  "kernelspec": {
   "display_name": "Python 3",
   "language": "python",
   "name": "python3"
  },
  "language_info": {
   "codemirror_mode": {
    "name": "ipython",
    "version": 3
   },
   "file_extension": ".py",
   "mimetype": "text/x-python",
   "name": "python",
   "nbconvert_exporter": "python",
   "pygments_lexer": "ipython3",
   "version": "3.10.12"
  }
 },
 "nbformat": 4,
 "nbformat_minor": 2
}
