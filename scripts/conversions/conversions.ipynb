{
 "cells": [
  {
   "cell_type": "markdown",
   "metadata": {},
   "source": [
    "Parse TLE to KeplerInputs"
   ]
  },
  {
   "cell_type": "code",
   "execution_count": 42,
   "metadata": {},
   "outputs": [],
   "source": [
    "import sys\n",
    "sys.path.append('/workspaces/ma-max-wendler/scripts/keplertraces')  # Add the directory to the search path"
   ]
  },
  {
   "cell_type": "code",
   "execution_count": 43,
   "metadata": {},
   "outputs": [],
   "source": [
    "import tleparse"
   ]
  },
  {
   "cell_type": "code",
   "execution_count": 44,
   "metadata": {},
   "outputs": [],
   "source": [
    "# inputs = tleparse($tlespath$), i.e.\n",
    "path = \"/workspaces/ma-max-wendler/examples/space_veins/tles/iridiumNEXT_2023-10-22-21-39-19.txt\"\n",
    "tles = tleparse.read(path)"
   ]
  },
  {
   "cell_type": "code",
   "execution_count": 45,
   "metadata": {},
   "outputs": [
    {
     "data": {
      "text/plain": [
       "TLE(name='IRIDIUM 106', norad='41917', classification='U', int_desig='17003A', epoch_year=2023, epoch_day=295.91774854, dn_o2=1.91e-06, ddn_o6=0.0, bstar=6.0989e-05, set_num=999, inc=86.3949, raan=133.2138, ecc=0.0001982, argp=93.4819, M=266.6603, n=14.34216513, rev_num=35442)"
      ]
     },
     "execution_count": 45,
     "metadata": {},
     "output_type": "execute_result"
    }
   ],
   "source": [
    "# objects of the TLE-tool that among other things parses TLE values\n",
    "tle = tles[0]\n",
    "tle"
   ]
  },
  {
   "cell_type": "markdown",
   "metadata": {},
   "source": [
    "For comparison: IRIDIUM 106 TLE\n",
    "\n",
    "```\n",
    "IRIDIUM 106\n",
    "1 41917U 17003A   23295.91774854  .00000191  00000+0  60989-4 0  9995\n",
    "2 41917  86.3949 133.2138 0001982  93.4819 266.6603 14.34216513354425\n",
    "```"
   ]
  },
  {
   "cell_type": "markdown",
   "metadata": {},
   "source": [
    "Convert to KeplerInputs instance, contains two conversions:"
   ]
  },
  {
   "cell_type": "code",
   "execution_count": 46,
   "metadata": {},
   "outputs": [],
   "source": [
    "from poliastro.twobody.angles import M_to_E, E_to_nu\n",
    "import astropy.units as u\n",
    "from math import pi"
   ]
  },
  {
   "cell_type": "code",
   "execution_count": 47,
   "metadata": {},
   "outputs": [
    {
     "data": {
      "text/plain": [
       "(<Quantity 0.0001982>, <Quantity 266.6603 deg>)"
      ]
     },
     "execution_count": 47,
     "metadata": {},
     "output_type": "execute_result"
    }
   ],
   "source": [
    "# mean anomaly to true anomaly via poliastro functions\n",
    "ecc = u.Quantity(tle.ecc, unit=u.one)\n",
    "mean_anom = u.Quantity(tle.M, unit=u.deg)\n",
    "ecc, mean_anom"
   ]
  },
  {
   "cell_type": "code",
   "execution_count": 48,
   "metadata": {},
   "outputs": [
    {
     "data": {
      "text/plain": [
       "(<Quantity 4.65410022 rad>, <Quantity -1.62908509 rad>, 4.654100219355835)"
      ]
     },
     "execution_count": 48,
     "metadata": {},
     "output_type": "execute_result"
    }
   ],
   "source": [
    "mean_anom_rad = mean_anom.to(u.rad)\n",
    "# mean_anom_rad_negpos = u.Quantity(pi,unit=u.rad) - mean_anom.to(u.rad)\n",
    "# -pi (when pi passed) + (mean_anom_rad - pi) (overlap over pi)\n",
    "mean_anom_rad_negpos = mean_anom.to(u.rad) - u.Quantity(2*pi,unit=u.rad) \n",
    "\n",
    "mean_anom_rad, mean_anom_rad_negpos, 2*pi + mean_anom_rad_negpos.value"
   ]
  },
  {
   "cell_type": "code",
   "execution_count": 49,
   "metadata": {},
   "outputs": [],
   "source": [
    "import tletools"
   ]
  },
  {
   "cell_type": "code",
   "execution_count": 50,
   "metadata": {},
   "outputs": [
    {
     "data": {
      "text/plain": [
       "(<Quantity -93.36237315 deg>, <Quantity -1.62948081 rad>)"
      ]
     },
     "execution_count": 50,
     "metadata": {},
     "output_type": "execute_result"
    }
   ],
   "source": [
    "\"\"\"\n",
    "**Warning**\n",
    "\n",
    "    The mean anomaly must be between -π and π radians.\n",
    "    The eccentricity must be less than 1.\n",
    "\"\"\"\n",
    "    \n",
    "# tle-tools-based true anomaly\n",
    "true_anom_t = u.Quantity(tletools.utils.M_to_nu(mean_anom_rad_negpos, tle.ecc), unit=u.rad).to(u.deg)\n",
    "true_anom_t, true_anom_t.to(u.rad)"
   ]
  },
  {
   "cell_type": "code",
   "execution_count": 51,
   "metadata": {},
   "outputs": [
    {
     "data": {
      "text/plain": [
       "(<Quantity -1.62948081 rad>,\n",
       " <Quantity -1.62948081 rad>,\n",
       " <Quantity -93.36237315 deg>)"
      ]
     },
     "execution_count": 51,
     "metadata": {},
     "output_type": "execute_result"
    }
   ],
   "source": [
    "# poliastro based True anomaly -> can use mean anomaly in degrees\n",
    "true_anom_p = E_to_nu( M_to_E( mean_anom_rad_negpos, ecc ), ecc )\n",
    "_true_anom_p = E_to_nu( M_to_E( mean_anom_rad, ecc ), ecc )\n",
    "true_anom_p, _true_anom_p, true_anom_p.to(u.deg)"
   ]
  },
  {
   "cell_type": "code",
   "execution_count": 52,
   "metadata": {},
   "outputs": [],
   "source": [
    "from orbital.utilities import true_anomaly_from_mean"
   ]
  },
  {
   "cell_type": "code",
   "execution_count": 53,
   "metadata": {},
   "outputs": [
    {
     "data": {
      "text/plain": [
       "(4.653704498287206, <Quantity -93.36237315 deg>)"
      ]
     },
     "execution_count": 53,
     "metadata": {},
     "output_type": "execute_result"
    }
   ],
   "source": [
    "# OrbitalPy based True anomaly\n",
    "# uses radian in 0,2pi range (Mnorm = fmod(M, 2 * pi))\n",
    "true_anom_o = true_anomaly_from_mean(ecc.value, mean_anom_rad.value)\n",
    "true_anom_o, u.Quantity( -1 * (2*pi - true_anom_o), unit=u.rad).to(u.deg)"
   ]
  },
  {
   "cell_type": "code",
   "execution_count": 54,
   "metadata": {},
   "outputs": [],
   "source": [
    "import rebound"
   ]
  },
  {
   "cell_type": "code",
   "execution_count": 55,
   "metadata": {},
   "outputs": [
    {
     "data": {
      "text/plain": [
       "(4.653704498287205, <Quantity -93.36237315 deg>)"
      ]
     },
     "execution_count": 55,
     "metadata": {},
     "output_type": "execute_result"
    }
   ],
   "source": [
    "# rebound-based True anomaly\n",
    "# can't really tell in which range M should be, as its C code\n",
    "true_anom_r = rebound.M_to_f(tle.ecc, mean_anom_rad_negpos.value)\n",
    "true_anom_r, u.Quantity(-360, unit=u.deg) + u.Quantity(true_anom_r, unit=u.rad).to(u.deg)"
   ]
  },
  {
   "cell_type": "code",
   "execution_count": 56,
   "metadata": {},
   "outputs": [],
   "source": [
    "from skyfield import keplerlib"
   ]
  },
  {
   "cell_type": "code",
   "execution_count": 57,
   "metadata": {},
   "outputs": [
    {
     "data": {
      "text/plain": [
       "(-1.629480808892381, <Quantity -93.36237315 deg>, -1.629480808892381)"
      ]
     },
     "execution_count": 57,
     "metadata": {},
     "output_type": "execute_result"
    }
   ],
   "source": [
    "# can take mean anomalies in both ranges\n",
    "ecc_anom = keplerlib.eccentric_anomaly(tle.ecc, mean_anom_rad.value)\n",
    "_ecc_anom = keplerlib.eccentric_anomaly(tle.ecc, mean_anom_rad_negpos.value)\n",
    "true_anom_s = keplerlib.true_anomaly_closed(tle.ecc, ecc_anom)\n",
    "_true_anom_s = keplerlib.true_anomaly_closed(tle.ecc, _ecc_anom)\n",
    "\n",
    "true_anom_s, u.Quantity(true_anom_s, unit=u.rad).to(u.deg), _true_anom_s"
   ]
  },
  {
   "cell_type": "markdown",
   "metadata": {},
   "source": [
    "Semi-major axis"
   ]
  },
  {
   "cell_type": "code",
   "execution_count": 58,
   "metadata": {},
   "outputs": [
    {
     "data": {
      "text/plain": [
       "7155.808268901222"
      ]
     },
     "execution_count": 58,
     "metadata": {},
     "output_type": "execute_result"
    }
   ],
   "source": [
    "# tletools \n",
    "tle.a"
   ]
  },
  {
   "cell_type": "code",
   "execution_count": 59,
   "metadata": {},
   "outputs": [],
   "source": [
    "from astropy.constants import GM_earth"
   ]
  },
  {
   "cell_type": "code",
   "execution_count": 60,
   "metadata": {},
   "outputs": [
    {
     "data": {
      "text/latex": [
       "$7155.808 \\; \\mathrm{km}$"
      ],
      "text/plain": [
       "<Quantity 7155.80801877 km>"
      ]
     },
     "execution_count": 60,
     "metadata": {},
     "output_type": "execute_result"
    }
   ],
   "source": [
    "# researched formula\n",
    "secs_per_revolution = 86400 / tle.n\n",
    "semimajoraxis = u.Quantity((secs_per_revolution**2 * GM_earth.value / (4 * pi**2) )**(1/3) / 1000, unit=u.km)\n",
    "semimajoraxis"
   ]
  },
  {
   "cell_type": "markdown",
   "metadata": {},
   "source": [
    "TEME coordinates from poliastro orbit"
   ]
  },
  {
   "cell_type": "code",
   "execution_count": 61,
   "metadata": {},
   "outputs": [
    {
     "data": {
      "text/plain": [
       "7154 x 7157 km x 86.4 deg (GCRS) orbit around Earth (♁) at epoch 2023-10-22T22:01:33.473856000 (UTC)"
      ]
     },
     "execution_count": 61,
     "metadata": {},
     "output_type": "execute_result"
    }
   ],
   "source": [
    "# creates kepler orbit\n",
    "orb = tle.to_orbit()\n",
    "orb"
   ]
  },
  {
   "cell_type": "markdown",
   "metadata": {},
   "source": [
    "Show that equivalent to reference calculations from literature / validated above:"
   ]
  },
  {
   "cell_type": "code",
   "execution_count": 62,
   "metadata": {},
   "outputs": [],
   "source": [
    "from keplerinputs import KeplerInputs\n",
    "from poliastro.twobody import Orbit\n",
    "from poliastro.bodies import Earth"
   ]
  },
  {
   "cell_type": "code",
   "execution_count": 63,
   "metadata": {},
   "outputs": [
    {
     "data": {
      "text/plain": [
       "7154 x 7157 km x 86.4 deg (GCRS) orbit around Earth (♁) at epoch 2023-10-22T22:01:33.473856000 (UTC)"
      ]
     },
     "execution_count": 63,
     "metadata": {},
     "output_type": "execute_result"
    }
   ],
   "source": [
    "kepler_inputs = KeplerInputs(tle.name, tle.ecc, tle.inc, tle.raan, tle.argp, mean_anom=tle.M, mean_motion=tle.n, epoch=tle.epoch)\n",
    "orb = Orbit.from_classical(\n",
    "            Earth, \n",
    "            a=kepler_inputs.semimajoraxis, \n",
    "            ecc=kepler_inputs.ecc, \n",
    "            inc=kepler_inputs.inc, \n",
    "            raan=kepler_inputs.raan, \n",
    "            argp=kepler_inputs.argp, \n",
    "            nu=kepler_inputs.true_anom, \n",
    "            epoch=kepler_inputs.epoch)\n",
    "orb"
   ]
  },
  {
   "cell_type": "markdown",
   "metadata": {},
   "source": [
    "=> tletools orbit creation is equivalent."
   ]
  },
  {
   "cell_type": "markdown",
   "metadata": {},
   "source": [
    "Now: compare ephem coordinates to TEME coordinates from C++ SGP4"
   ]
  },
  {
   "cell_type": "code",
   "execution_count": 64,
   "metadata": {},
   "outputs": [],
   "source": [
    "from datetime import datetime\n",
    "from astropy.time import Time"
   ]
  },
  {
   "cell_type": "code",
   "execution_count": 65,
   "metadata": {},
   "outputs": [
    {
     "data": {
      "text/plain": [
       "<Time object: scale='utc' format='datetime' value=2023-10-22 21:39:19>"
      ]
     },
     "execution_count": 65,
     "metadata": {},
     "output_type": "execute_result"
    }
   ],
   "source": [
    "# following avg. epoch of all sats, which is encoded in name of TLEs file, 'iridium-NEXT_2023-10-22-21-39-19'\n",
    "start_datetime = datetime.strptime(\"2023-10-22-21-39-19\", '%Y-%m-%d-%H-%M-%S')\n",
    "sim_start_time = Time(start_datetime, format='datetime', scale='utc')\n",
    "sim_start_time"
   ]
  },
  {
   "cell_type": "code",
   "execution_count": 66,
   "metadata": {},
   "outputs": [],
   "source": [
    "from poliastro.twobody.sampling import EpochsArray\n",
    "from poliastro.util import time_range"
   ]
  },
  {
   "cell_type": "code",
   "execution_count": 67,
   "metadata": {},
   "outputs": [
    {
     "data": {
      "text/plain": [
       "Ephemerides at 25 epochs from 2023-10-22 21:39:20 (UTC) to 2023-10-22 21:39:44 (UTC)"
      ]
     },
     "execution_count": 67,
     "metadata": {},
     "output_type": "execute_result"
    }
   ],
   "source": [
    "# could use different propagator for EpochsArray, which currently is 'FarnocchiaPropagator'\n",
    "update_interval = (1 << u.s)\n",
    "periods = 25\n",
    "# first coordinate change at first sim second\n",
    "ephem = orb.to_ephem(strategy=EpochsArray(epochs=time_range(sim_start_time + update_interval, spacing=update_interval, periods=periods)))\n",
    "ephem"
   ]
  },
  {
   "cell_type": "code",
   "execution_count": 68,
   "metadata": {},
   "outputs": [
    {
     "data": {
      "text/plain": [
       "<CartesianRepresentation (x, y, z) in km\n",
       "    [(-566.52604985, 1249.35180412, -7024.52179864),\n",
       "     (-571.61236662, 1254.64088416, -7023.16674788),\n",
       "     (-576.69806194, 1259.92860018, -7021.80406161),\n",
       "     (-581.78313028, 1265.21494641, -7020.43374131),\n",
       "     (-586.86756611, 1270.49991712, -7019.05578846),\n",
       "     (-591.9513639 , 1275.78350655, -7017.67020456),\n",
       "     (-597.03451813, 1281.06570896, -7016.27699111),\n",
       "     (-602.11702327, 1286.3465186 , -7014.87614964),\n",
       "     (-607.1988738 , 1291.62592975, -7013.46768166),\n",
       "     (-612.28006418, 1296.90393665, -7012.05158871),\n",
       "     (-617.3605889 , 1302.18053357, -7010.62787232),\n",
       "     (-622.44044243, 1307.45571477, -7009.19653404),\n",
       "     (-627.51961925, 1312.72947451, -7007.75757543),\n",
       "     (-632.59811383, 1318.00180707, -7006.31099804),\n",
       "     (-637.67592066, 1323.27270671, -7004.85680346),\n",
       "     (-642.75303422, 1328.5421677 , -7003.39499326),\n",
       "     (-647.82944897, 1333.81018431, -7001.92556903),\n",
       "     (-652.90515942, 1339.07675081, -7000.44853236),\n",
       "     (-657.98016003, 1344.34186148, -6998.96388488),\n",
       "     (-663.05444529, 1349.60551059, -6997.47162817),\n",
       "     (-668.12800968, 1354.86769243, -6995.97176388),\n",
       "     (-673.20084769, 1360.12840126, -6994.46429362),\n",
       "     (-678.27295381, 1365.38763137, -6992.94921904),\n",
       "     (-683.3443225 , 1370.64537705, -6991.42654178),\n",
       "     (-688.41494828, 1375.90163256, -6989.8962635 )]\n",
       " (has differentials w.r.t.: 's')>"
      ]
     },
     "execution_count": 68,
     "metadata": {},
     "output_type": "execute_result"
    }
   ],
   "source": [
    "# ICRS coordinates, but orbit above specifies GCRS?\n",
    "# => GCRS is specific version of ICRS\n",
    "\"\"\"\n",
    "Regardless of how the Orbit is created, \n",
    "the implicit reference system is an inertial one. \n",
    "For the specific case of the Solar System, this can be assumed \n",
    "to be the International Celestial Reference System or ICRS.\n",
    "\"\"\"\n",
    "\n",
    "cartesian_trace = ephem.sample(ephem.epochs)\n",
    "# example coordinates\n",
    "cartesian_trace"
   ]
  },
  {
   "cell_type": "code",
   "execution_count": 69,
   "metadata": {},
   "outputs": [],
   "source": [
    "from orekit.pyhelpers import download_orekit_data_curdir, setup_orekit_curdir\n",
    "import os"
   ]
  },
  {
   "cell_type": "code",
   "execution_count": 70,
   "metadata": {},
   "outputs": [
    {
     "name": "stdout",
     "output_type": "stream",
     "text": [
      "Java version: 1.8.0_382\n",
      "Orekit version: 11.3.3\n"
     ]
    }
   ],
   "source": [
    "if \"orekit-data.zip\" not in os.listdir(\"./\"):\n",
    "        download_orekit_data_curdir()\n",
    "\n",
    "import orekit\n",
    "vm = orekit.initVM()\n",
    "print ('Java version:',vm.java_version)\n",
    "print ('Orekit version:', orekit.VERSION)\n",
    "\n",
    "setup_orekit_curdir()"
   ]
  },
  {
   "cell_type": "code",
   "execution_count": 71,
   "metadata": {},
   "outputs": [],
   "source": [
    "from org.orekit.utils import PVCoordinates\n",
    "from org.hipparchus.geometry.euclidean.threed import Vector3D"
   ]
  },
  {
   "cell_type": "code",
   "execution_count": 72,
   "metadata": {},
   "outputs": [
    {
     "data": {
      "text/plain": [
       "<Vector3D: {1; 2; 3}>"
      ]
     },
     "execution_count": 72,
     "metadata": {},
     "output_type": "execute_result"
    }
   ],
   "source": [
    "Vector3D(1.0, 2.0, 3.0)"
   ]
  },
  {
   "cell_type": "code",
   "execution_count": 73,
   "metadata": {},
   "outputs": [],
   "source": [
    "coord = Vector3D(float(cartesian_trace[0].x.value), float(cartesian_trace[0].y.value), float(cartesian_trace[0].z.value))"
   ]
  },
  {
   "cell_type": "code",
   "execution_count": 74,
   "metadata": {},
   "outputs": [],
   "source": [
    "from astropy.coordinates import GCRS, ITRS, WGS84GeodeticRepresentation, SkyCoord, CartesianRepresentation"
   ]
  },
  {
   "cell_type": "code",
   "execution_count": 76,
   "metadata": {},
   "outputs": [
    {
     "data": {
      "text/plain": [
       "<CartesianRepresentation (x, y, z) in km\n",
       "    (-566.52604985, 1249.35180412, -7024.52179864)>"
      ]
     },
     "execution_count": 76,
     "metadata": {},
     "output_type": "execute_result"
    }
   ],
   "source": [
    "coord = CartesianRepresentation(coord.getX() << (u.km), coord.getY() << (u.km), coord.getZ() << (u.km))"
   ]
  },
  {
   "cell_type": "code",
   "execution_count": 81,
   "metadata": {},
   "outputs": [
    {
     "data": {
      "text/plain": [
       "<SkyCoord (ITRS: obstime=J2000.000, location=(0., 0., 0.) km): (x, y, z) [dimensionless]\n",
       "    (-566.52604985, 1249.35180412, -7024.52179864)>"
      ]
     },
     "execution_count": 81,
     "metadata": {},
     "output_type": "execute_result"
    }
   ],
   "source": [
    "SkyCoord(x=coord.x, y=coord.y, z=coord.z, representation_type=\"cartesian\", frame=\"itrs\")"
   ]
  },
  {
   "cell_type": "code",
   "execution_count": 30,
   "metadata": {},
   "outputs": [
    {
     "data": {
      "text/plain": [
       "<CartesianRepresentation (x, y, z) in km\n",
       "    [(-566.52604985, 1249.35180412, -7024.52179864),\n",
       "     (-571.61236662, 1254.64088416, -7023.16674788),\n",
       "     (-576.69806194, 1259.92860018, -7021.80406161)]\n",
       " (has differentials w.r.t.: 's')>"
      ]
     },
     "execution_count": 30,
     "metadata": {},
     "output_type": "execute_result"
    }
   ],
   "source": [
    "# validated: is GCRS\n",
    "gcrs_trace = GCRS(cartesian_trace, obstime=ephem.epochs)\n",
    "gcrs_trace.cartesian[:3]"
   ]
  },
  {
   "cell_type": "code",
   "execution_count": 31,
   "metadata": {},
   "outputs": [
    {
     "data": {
      "text/plain": [
       "<CartesianRepresentation (x, y, z) in km\n",
       "    [(-644.86301954, 1203.58311841, -7025.75814829),\n",
       "     (-650.25598513, 1208.51251027, -7024.41458634),\n",
       "     (-655.64752835, 1213.44138109, -7023.06338752)]\n",
       " (has differentials w.r.t.: 's')>"
      ]
     },
     "execution_count": 31,
     "metadata": {},
     "output_type": "execute_result"
    }
   ],
   "source": [
    "# convert GCRS to ITRF/S\n",
    "itrf_trace = gcrs_trace.transform_to(ITRS(obstime=ephem.epochs))\n",
    "itrf_trace.cartesian[:3]"
   ]
  },
  {
   "cell_type": "code",
   "execution_count": 32,
   "metadata": {},
   "outputs": [
    {
     "data": {
      "text/plain": [
       "<CartesianRepresentation (x, y, z) in km\n",
       "    [(-725.60553853, 1277.46676615, -7004.80352685),\n",
       "     (-730.97656521, 1282.3877606 , -7003.34556976),\n",
       "     (-736.34608341, 1287.30815087, -7001.8799987 ),\n",
       "     (-741.71408742, 1292.22793144, -7000.40681525),\n",
       "     (-747.08057153, 1297.14709674, -6998.92602102),\n",
       "     (-752.44553001, 1302.06564125, -6997.43761762),\n",
       "     (-757.80895715, 1306.98355941, -6995.94160666),\n",
       "     (-763.17084724, 1311.90084569, -6994.43798978),\n",
       "     (-768.53119458, 1316.81749452, -6992.92676859),\n",
       "     (-773.88999345, 1321.73350039, -6991.40794475)]\n",
       " (has differentials w.r.t.: 's')>"
      ]
     },
     "execution_count": 32,
     "metadata": {},
     "output_type": "execute_result"
    }
   ],
   "source": [
    "# transform to SkyCoord\n",
    "skycoord_itrf = SkyCoord(itrf_trace, obstime=ephem.epochs, frame=\"itrs\")\n",
    "skycoord_itrf.cartesian[15:]"
   ]
  },
  {
   "cell_type": "markdown",
   "metadata": {},
   "source": [
    "For comparison, output by orbkit transformation:\n",
    "\n",
    "```\n",
    "[ <PVCoordinates: {P(-727.0938966215228, 1276.6212194343068, -7004.802506545653), V(0.09309187026826966, 0.05301996231850821, -5.3028588578756396E-8), A(3.866278039020582E-6, -6.788368278032022E-6, -1.4665325824003472E-11)}>,\n",
    " <PVCoordinates: {P(-732.5641094702186, 1281.4825284829526, -7003.344549410315), V(0.09344636266366925, 0.05341885667975937, -5.296804106243908E-8), A(3.89536587490266E-6, -6.814218271316078E-6, -1.4740768365942567E-11)}>,\n",
    " <PVCoordinates: {P(-738.0335258941184, 1286.342444312725, -7001.878978291198), V(0.09380075346468401, 0.05381769296553489, -5.290743596137211E-8), A(3.924449475852732E-6, -6.840060856218541E-6, -1.4816194881918557E-11)}>,\n",
    " <PVCoordinates: {P(-743.5021399256423, 1291.2009616473915, -7000.405794805787), V(0.09415504228656484, 0.0542164707406718, -5.2846773344231464E-8), A(3.953528810138209E-6, -6.8658960046830585E-6, -1.4891605289828644E-11)}>,\n",
    " <PVCoordinates: {P(-748.9699456264644, 1296.0580751984296, -6998.925000521637), V(0.09450922874366643, 0.05461518957214039, -5.278605327566034E-8), A(3.982603846182069E-6, -6.891723688587936E-6, -1.496699950769187E-11)}>,\n",
    " <PVCoordinates: {P(-754.4369370496694, 1300.913779698044, -6997.436597076279), V(0.09486331245185493, 0.05501384902628459, -5.272527582314434E-8), A(4.011674552361613E-6, -6.917543879921688E-6, -1.504237745361741E-11)}>,\n",
    " <PVCoordinates: {P(-759.9031082560932, 1305.768069847746, -6995.940586067266), V(0.09521729302475829, 0.055412448670013555, -5.2664441050442644E-8), A(4.040740897095359E-6, -6.943356550509619E-6, -1.5117739045544903E-11)}>,\n",
    " <PVCoordinates: {P(-765.3684533087905, 1310.6209403789694, -6994.436969132149), V(0.09557117007818644, 0.05581098807039825, -5.260354902399753E-8), A(4.069802848813619E-6, -6.96916167233615E-6, -1.5193084201650194E-11)}>,\n",
    " <PVCoordinates: {P(-770.8329662409272, 1315.4723860254567, -6992.9257478984155), V(0.09592494322811763, 0.05620946679233008, -5.25425998133788E-8), A(4.098860375787778E-6, -6.994959217397972E-6, -1.5268412839909278E-11)}>,\n",
    " <PVCoordinates: {P(-776.2966411431365, 1320.322401486421, -6991.406924013685), V(0.09627861208801226, 0.05660788440489108, -5.2481593479228013E-8), A(4.127913446594798E-6, -7.020749157508173E-6, -1.5343724878461044E-11)}>]\n",
    "```"
   ]
  },
  {
   "cell_type": "markdown",
   "metadata": {},
   "source": [
    "For comparison, output by C++ SGP4\n",
    "```\n",
    "> print(x_sgp4_itrf$`itrfCoordX_vector`)\n",
    " [1] -734.9439 -740.2763 -745.6072 -750.9365 -756.2643 -761.5906 -766.9153 -772.2386 -777.5602 -782.8803 -788.1988\n",
    "> print(y_sgp4_itrf$`itrfCoordY_vector`)\n",
    " [1] 1280.705 1285.646 1290.587 1295.527 1300.466 1305.405 1310.343 1315.280 1320.217 1325.153 1330.089\n",
    "> print(z_sgp4_itrf$`itrfCoordZ_vector`)\n",
    " [1] -7010.836 -7009.370 -7007.896 -7006.415 -7004.926 -7003.430 -7001.926 -7000.414 -6998.895 -6997.368 -6995.834\n",
    "```"
   ]
  },
  {
   "cell_type": "code",
   "execution_count": 33,
   "metadata": {},
   "outputs": [
    {
     "data": {
      "text/plain": [
       "<SkyCoord (ITRS: obstime=[datetime.datetime(2023, 10, 22, 21, 39, 35)\n",
       " datetime.datetime(2023, 10, 22, 21, 39, 36)\n",
       " datetime.datetime(2023, 10, 22, 21, 39, 37)\n",
       " datetime.datetime(2023, 10, 22, 21, 39, 38)\n",
       " datetime.datetime(2023, 10, 22, 21, 39, 39)\n",
       " datetime.datetime(2023, 10, 22, 21, 39, 40)\n",
       " datetime.datetime(2023, 10, 22, 21, 39, 41)\n",
       " datetime.datetime(2023, 10, 22, 21, 39, 42)\n",
       " datetime.datetime(2023, 10, 22, 21, 39, 43)\n",
       " datetime.datetime(2023, 10, 22, 21, 39, 44)], location=(0., 0., 0.) km): (lon, lat, height) in (deg, deg, m)\n",
       "    [(119.59672477, -78.22323616, 799563.2714196 ),\n",
       "     (119.68366428, -78.16682804, 799554.57686177),\n",
       "     (119.7697517 , -78.11039084, 799545.8381859 ),\n",
       "     (119.85499866, -78.05392496, 799537.05542884),\n",
       "     (119.93941662, -77.99743081, 799528.22862769),\n",
       "     (120.02301682, -77.94090878, 799519.35781967),\n",
       "     (120.10581031, -77.88435925, 799510.44304222),\n",
       "     (120.18780795, -77.82778259, 799501.48433297),\n",
       "     (120.26902042, -77.77117919, 799492.48172972),\n",
       "     (120.34945822, -77.7145494 , 799483.43527044)]>"
      ]
     },
     "execution_count": 33,
     "metadata": {},
     "output_type": "execute_result"
    }
   ],
   "source": [
    "# transform to WGS84\n",
    "skycoord_wgs84 = skycoord_itrf.copy()\n",
    "skycoord_wgs84.set_representation_cls(WGS84GeodeticRepresentation)\n",
    "skycoord_wgs84[15:]"
   ]
  },
  {
   "cell_type": "markdown",
   "metadata": {},
   "source": [
    "For comparison, outputs by C++ SGP4:\n",
    "\n",
    "```\n",
    "> print(x_sgp4$`wgs84CoordLat_vector`)\n",
    " [1] -78.17508 -78.11866 -78.06220 -78.00573 -77.94922 -77.89269 -77.83613 -77.77955 -77.72294 -77.66631 -77.60965\n",
    "> print(y_sgp4$`wgs84CoordLon_vector`)\n",
    " [1] 119.8497 119.9334 120.0162 120.0982 120.1794 120.2599 120.3395 120.4184 120.4966 120.5739 120.6506\n",
    "> print(z_sgp4$`wgs84CoordAlt_vector`)\n",
    " [1] 806989.9 806980.9 806971.8 806962.7 806953.5 806944.3 806935.0 806925.7 806916.4 806907.0 806897.6\n",
    "\n",
    "```"
   ]
  },
  {
   "cell_type": "code",
   "execution_count": 34,
   "metadata": {},
   "outputs": [
    {
     "data": {
      "text/plain": [
       "<SphericalRepresentation (lon, lat, distance) in (deg, deg, km)\n",
       "    [(119.59672477, -78.1547217 , 7157.2129482 ),\n",
       "     (119.68366428, -78.09800433, 7157.21274498),\n",
       "     (119.7697517 , -78.04125799, 7157.21254023),\n",
       "     (119.85499866, -77.98448309, 7157.21233395),\n",
       "     (119.93941662, -77.92768003, 7157.21212615),\n",
       "     (120.02301682, -77.8708492 , 7157.21191682),\n",
       "     (120.10581031, -77.813991  , 7157.21170596),\n",
       "     (120.18780795, -77.75710581, 7157.21149358),\n",
       "     (120.26902042, -77.700194  , 7157.21127967),\n",
       "     (120.34945822, -77.64325594, 7157.21106423)]\n",
       " (has differentials w.r.t.: 's')>"
      ]
     },
     "execution_count": 34,
     "metadata": {},
     "output_type": "execute_result"
    }
   ],
   "source": [
    "# even larger mismatch in altitude\n",
    "skycoord_wgs84.spherical[15:] "
   ]
  },
  {
   "cell_type": "code",
   "execution_count": 35,
   "metadata": {},
   "outputs": [
    {
     "data": {
      "text/plain": [
       "[(<Longitude 119.59672477 deg>,\n",
       "  <Latitude -78.22323616 deg>,\n",
       "  <Quantity 799563.2714196 m>),\n",
       " (<Longitude 119.68366428 deg>,\n",
       "  <Latitude -78.16682804 deg>,\n",
       "  <Quantity 799554.57686178 m>),\n",
       " (<Longitude 119.7697517 deg>,\n",
       "  <Latitude -78.11039084 deg>,\n",
       "  <Quantity 799545.8381859 m>),\n",
       " (<Longitude 119.85499866 deg>,\n",
       "  <Latitude -78.05392496 deg>,\n",
       "  <Quantity 799537.05542884 m>),\n",
       " (<Longitude 119.93941662 deg>,\n",
       "  <Latitude -77.99743081 deg>,\n",
       "  <Quantity 799528.22862769 m>),\n",
       " (<Longitude 120.02301682 deg>,\n",
       "  <Latitude -77.94090878 deg>,\n",
       "  <Quantity 799519.35781967 m>),\n",
       " (<Longitude 120.10581031 deg>,\n",
       "  <Latitude -77.88435925 deg>,\n",
       "  <Quantity 799510.44304222 m>),\n",
       " (<Longitude 120.18780795 deg>,\n",
       "  <Latitude -77.82778259 deg>,\n",
       "  <Quantity 799501.48433297 m>),\n",
       " (<Longitude 120.26902042 deg>,\n",
       "  <Latitude -77.77117919 deg>,\n",
       "  <Quantity 799492.48172972 m>),\n",
       " (<Longitude 120.34945822 deg>,\n",
       "  <Latitude -77.7145494 deg>,\n",
       "  <Quantity 799483.43527044 m>)]"
      ]
     },
     "execution_count": 35,
     "metadata": {},
     "output_type": "execute_result"
    }
   ],
   "source": [
    "# mismatch in angles\n",
    "data = skycoord_wgs84.spherical[15:].represent_as(WGS84GeodeticRepresentation)\n",
    "[(d.lon.to(u.deg), d.lat.to(u.deg), d.height) for d in data]"
   ]
  },
  {
   "cell_type": "code",
   "execution_count": 36,
   "metadata": {},
   "outputs": [
    {
     "data": {
      "text/plain": [
       "[<Angle 115.81784858 rad>,\n",
       " <Angle 115.90577074 rad>,\n",
       " <Angle 115.99287188 rad>,\n",
       " <Angle 116.07916326 rad>,\n",
       " <Angle 116.16465589 rad>,\n",
       " <Angle 116.24936064 rad>,\n",
       " <Angle 116.33328815 rad>,\n",
       " <Angle 116.4164489 rad>,\n",
       " <Angle 116.49885319 rad>,\n",
       " <Angle 116.58051113 rad>]"
      ]
     },
     "execution_count": 36,
     "metadata": {},
     "output_type": "execute_result"
    }
   ],
   "source": [
    "# not equivalent -> ITRS conversion is necessara\n",
    "data = SkyCoord(GCRS(cartesian_trace, obstime=ephem.epochs), frame=\"gcrs\", obstime=ephem.epochs)\n",
    "data = data.spherical.represent_as(WGS84GeodeticRepresentation)[15:]\n",
    "[(d.lon * 180 / pi) for d in data]"
   ]
  },
  {
   "cell_type": "code",
   "execution_count": 39,
   "metadata": {},
   "outputs": [
    {
     "data": {
      "text/plain": [
       "'2023-10-22T21:39:19.000'"
      ]
     },
     "execution_count": 39,
     "metadata": {},
     "output_type": "execute_result"
    }
   ],
   "source": [
    "sim_start_time.format = \"isot\"\n",
    "sim_start_time.value"
   ]
  }
 ],
 "metadata": {
  "kernelspec": {
   "display_name": "Python 3",
   "language": "python",
   "name": "python3"
  },
  "language_info": {
   "codemirror_mode": {
    "name": "ipython",
    "version": 3
   },
   "file_extension": ".py",
   "mimetype": "text/x-python",
   "name": "python",
   "nbconvert_exporter": "python",
   "pygments_lexer": "ipython3",
   "version": "3.10.13"
  }
 },
 "nbformat": 4,
 "nbformat_minor": 2
}
