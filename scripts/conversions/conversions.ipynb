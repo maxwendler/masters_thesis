{
 "cells": [
  {
   "cell_type": "markdown",
   "metadata": {},
   "source": [
    "Parse TLE to KeplerInputs"
   ]
  },
  {
   "cell_type": "code",
   "execution_count": 1,
   "metadata": {},
   "outputs": [],
   "source": [
    "import sys\n",
    "sys.path.append('/workspaces/ma-max-wendler/scripts/keplertraces')  # Add the directory to the search path"
   ]
  },
  {
   "cell_type": "code",
   "execution_count": 2,
   "metadata": {},
   "outputs": [],
   "source": [
    "import tleparse"
   ]
  },
  {
   "cell_type": "code",
   "execution_count": 3,
   "metadata": {},
   "outputs": [],
   "source": [
    "# inputs = tleparse($tlespath$), i.e.\n",
    "path = \"/workspaces/ma-max-wendler/scripts/keplertraces/tles/examples_requested_at_2023-10-23-11-06-08/iridium-NEXT_2023-10-22-21-39-19.txt\"\n",
    "tles = tleparse.read(path)"
   ]
  },
  {
   "cell_type": "code",
   "execution_count": 4,
   "metadata": {},
   "outputs": [
    {
     "data": {
      "text/plain": [
       "TLE(name='IRIDIUM 106', norad='41917', classification='U', int_desig='17003A', epoch_year=2023, epoch_day=295.91774854, dn_o2=1.91e-06, ddn_o6=0.0, bstar=6.0989e-05, set_num=999, inc=86.3949, raan=133.2138, ecc=0.0001982, argp=93.4819, M=266.6603, n=14.34216513, rev_num=35442)"
      ]
     },
     "execution_count": 4,
     "metadata": {},
     "output_type": "execute_result"
    }
   ],
   "source": [
    "# objects of the TLE-tool that among other things parses TLE values\n",
    "tle = tles[0]\n",
    "tle"
   ]
  },
  {
   "cell_type": "markdown",
   "metadata": {},
   "source": [
    "For comparison: IRIDIUM 106 TLE\n",
    "\n",
    "```\n",
    "IRIDIUM 106\n",
    "1 41917U 17003A   23295.91774854  .00000191  00000+0  60989-4 0  9995\n",
    "2 41917  86.3949 133.2138 0001982  93.4819 266.6603 14.34216513354425\n",
    "```"
   ]
  },
  {
   "cell_type": "markdown",
   "metadata": {},
   "source": [
    "Convert to KeplerInputs instance, contains two conversions:"
   ]
  },
  {
   "cell_type": "code",
   "execution_count": 5,
   "metadata": {},
   "outputs": [],
   "source": [
    "from poliastro.twobody.angles import M_to_E, E_to_nu\n",
    "import astropy.units as u\n",
    "from math import pi"
   ]
  },
  {
   "cell_type": "code",
   "execution_count": 6,
   "metadata": {},
   "outputs": [
    {
     "data": {
      "text/plain": [
       "(<Quantity 0.0001982>, <Quantity 266.6603 deg>)"
      ]
     },
     "execution_count": 6,
     "metadata": {},
     "output_type": "execute_result"
    }
   ],
   "source": [
    "# mean anomaly to true anomaly via poliastro functions\n",
    "ecc = u.Quantity(tle.ecc, unit=u.one)\n",
    "mean_anom = u.Quantity(tle.M, unit=u.deg)\n",
    "ecc, mean_anom"
   ]
  },
  {
   "cell_type": "code",
   "execution_count": 7,
   "metadata": {},
   "outputs": [
    {
     "data": {
      "text/plain": [
       "(<Quantity 4.65410022 rad>, <Quantity -1.62908509 rad>, 4.654100219355835)"
      ]
     },
     "execution_count": 7,
     "metadata": {},
     "output_type": "execute_result"
    }
   ],
   "source": [
    "mean_anom_rad = mean_anom.to(u.rad)\n",
    "# mean_anom_rad_negpos = u.Quantity(pi,unit=u.rad) - mean_anom.to(u.rad)\n",
    "# -pi (when pi passed) + (mean_anom_rad - pi) (overlap over pi)\n",
    "mean_anom_rad_negpos = mean_anom.to(u.rad) - u.Quantity(2*pi,unit=u.rad) \n",
    "\n",
    "mean_anom_rad, mean_anom_rad_negpos, 2*pi + mean_anom_rad_negpos.value"
   ]
  },
  {
   "cell_type": "code",
   "execution_count": 8,
   "metadata": {},
   "outputs": [],
   "source": [
    "import tletools"
   ]
  },
  {
   "cell_type": "code",
   "execution_count": 9,
   "metadata": {},
   "outputs": [
    {
     "data": {
      "text/plain": [
       "(<Quantity -93.36237315 deg>, <Quantity -1.62948081 rad>)"
      ]
     },
     "execution_count": 9,
     "metadata": {},
     "output_type": "execute_result"
    }
   ],
   "source": [
    "\"\"\"\n",
    "**Warning**\n",
    "\n",
    "    The mean anomaly must be between -π and π radians.\n",
    "    The eccentricity must be less than 1.\n",
    "\"\"\"\n",
    "    \n",
    "# tle-tools-based true anomaly\n",
    "true_anom_t = u.Quantity(tletools.utils.M_to_nu(mean_anom_rad_negpos, tle.ecc), unit=u.rad).to(u.deg)\n",
    "true_anom_t, true_anom_t.to(u.rad)"
   ]
  },
  {
   "cell_type": "code",
   "execution_count": 10,
   "metadata": {},
   "outputs": [
    {
     "data": {
      "text/plain": [
       "(<Quantity -1.62948081 rad>,\n",
       " <Quantity -1.62948081 rad>,\n",
       " <Quantity -93.36237315 deg>)"
      ]
     },
     "execution_count": 10,
     "metadata": {},
     "output_type": "execute_result"
    }
   ],
   "source": [
    "# poliastro based True anomaly -> can use mean anomaly in degrees\n",
    "true_anom_p = E_to_nu( M_to_E( mean_anom_rad_negpos, ecc ), ecc )\n",
    "_true_anom_p = E_to_nu( M_to_E( mean_anom_rad, ecc ), ecc )\n",
    "true_anom_p, _true_anom_p, true_anom_p.to(u.deg)"
   ]
  },
  {
   "cell_type": "code",
   "execution_count": 11,
   "metadata": {},
   "outputs": [],
   "source": [
    "from orbital.utilities import true_anomaly_from_mean"
   ]
  },
  {
   "cell_type": "code",
   "execution_count": 12,
   "metadata": {},
   "outputs": [
    {
     "data": {
      "text/plain": [
       "(4.653704498287206, <Quantity -93.36237315 deg>)"
      ]
     },
     "execution_count": 12,
     "metadata": {},
     "output_type": "execute_result"
    }
   ],
   "source": [
    "# OrbitalPy based True anomaly\n",
    "# uses radian in 0,2pi range (Mnorm = fmod(M, 2 * pi))\n",
    "true_anom_o = true_anomaly_from_mean(ecc.value, mean_anom_rad.value)\n",
    "true_anom_o, u.Quantity( -1 * (2*pi - true_anom_o), unit=u.rad).to(u.deg)"
   ]
  },
  {
   "cell_type": "code",
   "execution_count": 13,
   "metadata": {},
   "outputs": [],
   "source": [
    "import rebound"
   ]
  },
  {
   "cell_type": "code",
   "execution_count": 14,
   "metadata": {},
   "outputs": [
    {
     "data": {
      "text/plain": [
       "(4.653704498287205, <Quantity -93.36237315 deg>)"
      ]
     },
     "execution_count": 14,
     "metadata": {},
     "output_type": "execute_result"
    }
   ],
   "source": [
    "# rebound-based True anomaly\n",
    "# can't really tell in which range M should be, as its C code\n",
    "true_anom_r = rebound.M_to_f(tle.ecc, mean_anom_rad_negpos.value)\n",
    "true_anom_r, u.Quantity(-360, unit=u.deg) + u.Quantity(true_anom_r, unit=u.rad).to(u.deg)"
   ]
  },
  {
   "cell_type": "code",
   "execution_count": 15,
   "metadata": {},
   "outputs": [],
   "source": [
    "from skyfield import keplerlib"
   ]
  },
  {
   "cell_type": "code",
   "execution_count": 16,
   "metadata": {},
   "outputs": [
    {
     "data": {
      "text/plain": [
       "(-1.629480808892381, <Quantity -93.36237315 deg>, -1.629480808892381)"
      ]
     },
     "execution_count": 16,
     "metadata": {},
     "output_type": "execute_result"
    }
   ],
   "source": [
    "# can take mean anomalies in both ranges\n",
    "ecc_anom = keplerlib.eccentric_anomaly(tle.ecc, mean_anom_rad.value)\n",
    "_ecc_anom = keplerlib.eccentric_anomaly(tle.ecc, mean_anom_rad_negpos.value)\n",
    "true_anom_s = keplerlib.true_anomaly_closed(tle.ecc, ecc_anom)\n",
    "_true_anom_s = keplerlib.true_anomaly_closed(tle.ecc, _ecc_anom)\n",
    "\n",
    "true_anom_s, u.Quantity(true_anom_s, unit=u.rad).to(u.deg), _true_anom_s"
   ]
  },
  {
   "cell_type": "markdown",
   "metadata": {},
   "source": [
    "Semi-major axis"
   ]
  },
  {
   "cell_type": "code",
   "execution_count": 17,
   "metadata": {},
   "outputs": [
    {
     "data": {
      "text/plain": [
       "7155.808268901222"
      ]
     },
     "execution_count": 17,
     "metadata": {},
     "output_type": "execute_result"
    }
   ],
   "source": [
    "# tletools \n",
    "tle.a"
   ]
  },
  {
   "cell_type": "code",
   "execution_count": 18,
   "metadata": {},
   "outputs": [],
   "source": [
    "from astropy.constants import GM_earth"
   ]
  },
  {
   "cell_type": "code",
   "execution_count": 20,
   "metadata": {},
   "outputs": [
    {
     "data": {
      "text/latex": [
       "$7155.808 \\; \\mathrm{km}$"
      ],
      "text/plain": [
       "<Quantity 7155.80801877 km>"
      ]
     },
     "execution_count": 20,
     "metadata": {},
     "output_type": "execute_result"
    }
   ],
   "source": [
    "# researched formula\n",
    "secs_per_revolution = 86400 / tle.n\n",
    "semimajoraxis = u.Quantity((secs_per_revolution**2 * GM_earth.value / (4 * pi**2) )**(1/3) / 1000, unit=u.km)\n",
    "semimajoraxis"
   ]
  }
 ],
 "metadata": {
  "kernelspec": {
   "display_name": "Python 3",
   "language": "python",
   "name": "python3"
  },
  "language_info": {
   "codemirror_mode": {
    "name": "ipython",
    "version": 3
   },
   "file_extension": ".py",
   "mimetype": "text/x-python",
   "name": "python",
   "nbconvert_exporter": "python",
   "pygments_lexer": "ipython3",
   "version": "3.10.12"
  }
 },
 "nbformat": 4,
 "nbformat_minor": 2
}
