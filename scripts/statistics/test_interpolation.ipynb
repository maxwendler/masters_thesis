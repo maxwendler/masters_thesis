{
 "cells": [
  {
   "cell_type": "code",
   "execution_count": 57,
   "metadata": {},
   "outputs": [],
   "source": [
    "import json\n",
    "\n",
    "ref_mobility = \"sgp4\"\n",
    "new_mobility = \"kepler\"\n",
    "ref_mobility_periods_path = \"/workspaces/ma-max-wendler/examples/space_veins/stats/comm_periods/iridiumNEXT/sgp4/leoIRIDIUM[106]_communication-periods.json\"\n",
    "new_mobility_periods_path = \"/workspaces/ma-max-wendler/examples/space_veins/stats/comm_periods/iridiumNEXT/kepler/leoIRIDIUM[106]_communication-periods.json\"\n",
    "comm_period_groups_path = \"/workspaces/ma-max-wendler/examples/space_veins/stats/compare_comm_periods/iridiumNEXT/sgp4-kepler_leoIRIDIUM[100]_communication_comparison.json\"\n",
    "\n",
    "### load communication period statistics ###\n",
    "ref_mobility_stats = None\n",
    "with open(ref_mobility_periods_path, \"r\") as in_json:\n",
    "    ref_mobility_stats = json.load(in_json)\n",
    "new_mobility = new_mobility\n",
    "new_mobility_stats = None\n",
    "with open(new_mobility_periods_path, \"r\") as in_json:\n",
    "    new_mobility_stats = json.load(in_json)\n",
    "\n",
    "# load communication period comparison\n",
    "comm_periods = {}\n",
    "with open(comm_period_groups_path, \"r\") as in_json:\n",
    "    comm_periods = json.load(in_json)\n",
    "\n",
    "period_groups = comm_periods[\"period_groups\"]"
   ]
  },
  {
   "cell_type": "code",
   "execution_count": 58,
   "metadata": {},
   "outputs": [
    {
     "data": {
      "text/plain": [
       "0"
      ]
     },
     "execution_count": 58,
     "metadata": {},
     "output_type": "execute_result"
    }
   ],
   "source": [
    "p_group = period_groups[0]\n",
    "ref_angles = ref_mobility_stats[\"angles\"][ p_group[ref_mobility][\"period_idx\"] ]\n",
    "new_angles = new_mobility_stats[\"angles\"][ p_group[new_mobility][\"period_idx\"] ]\n",
    "p_group[ref_mobility][\"period_idx\"]"
   ]
  },
  {
   "cell_type": "code",
   "execution_count": 59,
   "metadata": {},
   "outputs": [
    {
     "data": {
      "text/plain": [
       "(323, 310)"
      ]
     },
     "execution_count": 59,
     "metadata": {},
     "output_type": "execute_result"
    }
   ],
   "source": [
    "len(ref_angles), len(new_angles)"
   ]
  },
  {
   "cell_type": "code",
   "execution_count": 60,
   "metadata": {},
   "outputs": [
    {
     "data": {
      "text/plain": [
       "162"
      ]
     },
     "execution_count": 60,
     "metadata": {},
     "output_type": "execute_result"
    }
   ],
   "source": [
    "# create test list to be interpolated where only every second value between start and end of list is used\n",
    "# for this, an odd number of entries is required (1st,3rd,5th,7th,9th,...)\n",
    "ref_angles_test = [ref_angles[0]]\n",
    "for i in range(2, len(ref_angles), 2):\n",
    "    ref_angles_test.append(ref_angles[i])\n",
    "len(ref_angles_test)"
   ]
  },
  {
   "cell_type": "code",
   "execution_count": 61,
   "metadata": {},
   "outputs": [],
   "source": [
    "import numpy as np\n",
    "from scipy.interpolate import interp1d\n",
    "\n",
    "# interpolate test list\n",
    "ref_angles_test_x = np.linspace(0, 1, len(ref_angles_test))\n",
    "ref_angles_x = np.linspace(0, 1, len(ref_angles))\n",
    "\n",
    "interpolators = {}\n",
    "interpolators[\"linear\"] = interp1d(ref_angles_test_x, ref_angles_test, kind=\"linear\")\n",
    "interpolators[\"zero\"] = interp1d(ref_angles_test_x, ref_angles_test, kind=\"zero\")\n",
    "interpolators[\"slinear\"] = interp1d(ref_angles_test_x, ref_angles_test, kind=\"slinear\")\n",
    "interpolators[\"quadratic\"] = interp1d(ref_angles_test_x, ref_angles_test, kind=\"quadratic\")\n",
    "interpolators[\"cubic\"] = interp1d(ref_angles_test_x, ref_angles_test, kind=\"cubic\")\n",
    "\n",
    "ref_angles_test_interps = {}\n",
    "for interp_kind_function_tuple in interpolators.items():\n",
    "    ref_angles_test_interps[interp_kind_function_tuple[0]] = list( interp_kind_function_tuple[1](ref_angles_x) )"
   ]
  },
  {
   "cell_type": "code",
   "execution_count": 62,
   "metadata": {},
   "outputs": [
    {
     "data": {
      "text/plain": [
       "{'linear': 0.0005832266129306626,\n",
       " 'zero': 0.09922449535352873,\n",
       " 'slinear': 0.0005832266129315459,\n",
       " 'quadratic': 7.143213553146479e-08,\n",
       " 'cubic': 2.4209948622463036e-08}"
      ]
     },
     "execution_count": 62,
     "metadata": {},
     "output_type": "execute_result"
    }
   ],
   "source": [
    "from math import sqrt\n",
    "\n",
    "root_mean_square_errors = {}\n",
    "for interp_kind_vals_tuple in ref_angles_test_interps.items():\n",
    "    \n",
    "    vals = interp_kind_vals_tuple[1]\n",
    "    \n",
    "    square_error_sum = 0\n",
    "    for i in range(len(ref_angles)):\n",
    "        square_error_sum += (ref_angles[i] - vals[i]) * (ref_angles[i] - vals[i])\n",
    "    \n",
    "    mean_square_error = square_error_sum / len(ref_angles)\n",
    "    root_mean_square_errors[interp_kind_vals_tuple[0]] = sqrt(mean_square_error) \n",
    "\n",
    "root_mean_square_errors"
   ]
  },
  {
   "cell_type": "code",
   "execution_count": 63,
   "metadata": {},
   "outputs": [
    {
     "data": {
      "text/plain": [
       "2.4209948622463036e-08"
      ]
     },
     "execution_count": 63,
     "metadata": {},
     "output_type": "execute_result"
    }
   ],
   "source": [
    "min(root_mean_square_errors.values())"
   ]
  },
  {
   "cell_type": "markdown",
   "metadata": {},
   "source": [
    "=> here, cubic interpolation is best"
   ]
  }
 ],
 "metadata": {
  "kernelspec": {
   "display_name": "Python 3",
   "language": "python",
   "name": "python3"
  },
  "language_info": {
   "codemirror_mode": {
    "name": "ipython",
    "version": 3
   },
   "file_extension": ".py",
   "mimetype": "text/x-python",
   "name": "python",
   "nbconvert_exporter": "python",
   "pygments_lexer": "ipython3",
   "version": "3.10.13"
  }
 },
 "nbformat": 4,
 "nbformat_minor": 2
}
